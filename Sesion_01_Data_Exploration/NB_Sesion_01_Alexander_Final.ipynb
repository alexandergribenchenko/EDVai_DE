{
  "nbformat": 4,
  "nbformat_minor": 0,
  "metadata": {
    "colab": {
      "provenance": [],
      "toc_visible": true,
      "authorship_tag": "ABX9TyNsqNdd2AfEHEtT+m7+/N7B",
      "include_colab_link": true
    },
    "kernelspec": {
      "name": "python3",
      "display_name": "Python 3"
    },
    "language_info": {
      "name": "python"
    }
  },
  "cells": [
    {
      "cell_type": "markdown",
      "metadata": {
        "id": "view-in-github",
        "colab_type": "text"
      },
      "source": [
        "<a href=\"https://colab.research.google.com/github/alexandergribenchenko/EDVai_DE/blob/main/Sesion_01_Data_Exploration/NB_Sesion_01_Alexander.ipynb\" target=\"_parent\"><img src=\"https://colab.research.google.com/assets/colab-badge.svg\" alt=\"Open In Colab\"/></a>"
      ]
    },
    {
      "cell_type": "markdown",
      "source": [
        "# A. Librerías"
      ],
      "metadata": {
        "id": "TtYSJNOJy7uO"
      }
    },
    {
      "cell_type": "code",
      "source": [
        "import pandas as pd\n",
        "import numpy as np\n",
        "\n",
        "import matplotlib.pyplot as plt\n",
        "import itertools\n",
        "\n",
        "import seaborn as sns\n",
        "sns.set_theme(style=\"whitegrid\")"
      ],
      "metadata": {
        "id": "Vxkkil7CJRSd"
      },
      "execution_count": null,
      "outputs": []
    },
    {
      "cell_type": "markdown",
      "source": [
        "# B. Dataset raw"
      ],
      "metadata": {
        "id": "BJ5dTqjnzAfM"
      }
    },
    {
      "cell_type": "code",
      "source": [
        "path_github = 'https://raw.githubusercontent.com/alexandergribenchenko/EDVai_DE/main/Sesion_01/data/Utimas%20Desvinculaciones_Row_data.csv'"
      ],
      "metadata": {
        "id": "kORZmM7RJGd0"
      },
      "execution_count": null,
      "outputs": []
    },
    {
      "cell_type": "code",
      "execution_count": null,
      "metadata": {
        "id": "YYEiZvEvILqo",
        "outputId": "e716ef91-4c80-4fde-f395-b2bab325bcd7",
        "colab": {
          "base_uri": "https://localhost:8080/",
          "height": 206
        }
      },
      "outputs": [
        {
          "output_type": "execute_result",
          "data": {
            "text/plain": [
              "   Id     Nombre   Apellido       Area Fecha comienzo   Fecha fin Nivel  \\\n",
              "0   1     Romina      Brito  Marketing     03/05/2018  12/31/2018    N3   \n",
              "1   2      Pedro      Lujan    Compras     03/06/2017  12/31/2021    N3   \n",
              "2   3       Juan   Albornoz         IT     06/04/2018  04/30/2019    N4   \n",
              "3   4  Sebastian   González    Legales     05/07/2018  05/30/2021    N2   \n",
              "4   5     Franco  Rodríguez  Marketing     05/01/2017  11/30/2017    N5   \n",
              "\n",
              "  Grupo recruitment  Tiempo recruitment Rango Salarial RS competencia  \\\n",
              "0           Grupo B                   3        Rango 3        Rango 3   \n",
              "1           Grupo B                   3        Rango 2        Rango 2   \n",
              "2           Grupo C                   4        Rango 4        Rango 4   \n",
              "3           Grupo A                   4        Rango 2        Rango 2   \n",
              "4           Grupo C                   6        Rango 5        Rango 4   \n",
              "\n",
              "   Manager Realizo Cursos  \n",
              "0        1             SI  \n",
              "1        2             SI  \n",
              "2        5             NO  \n",
              "3        3             SI  \n",
              "4        1             SI  "
            ],
            "text/html": [
              "\n",
              "  <div id=\"df-9fc371cf-ffbc-4a2d-b3f8-4238334b628d\">\n",
              "    <div class=\"colab-df-container\">\n",
              "      <div>\n",
              "<style scoped>\n",
              "    .dataframe tbody tr th:only-of-type {\n",
              "        vertical-align: middle;\n",
              "    }\n",
              "\n",
              "    .dataframe tbody tr th {\n",
              "        vertical-align: top;\n",
              "    }\n",
              "\n",
              "    .dataframe thead th {\n",
              "        text-align: right;\n",
              "    }\n",
              "</style>\n",
              "<table border=\"1\" class=\"dataframe\">\n",
              "  <thead>\n",
              "    <tr style=\"text-align: right;\">\n",
              "      <th></th>\n",
              "      <th>Id</th>\n",
              "      <th>Nombre</th>\n",
              "      <th>Apellido</th>\n",
              "      <th>Area</th>\n",
              "      <th>Fecha comienzo</th>\n",
              "      <th>Fecha fin</th>\n",
              "      <th>Nivel</th>\n",
              "      <th>Grupo recruitment</th>\n",
              "      <th>Tiempo recruitment</th>\n",
              "      <th>Rango Salarial</th>\n",
              "      <th>RS competencia</th>\n",
              "      <th>Manager</th>\n",
              "      <th>Realizo Cursos</th>\n",
              "    </tr>\n",
              "  </thead>\n",
              "  <tbody>\n",
              "    <tr>\n",
              "      <th>0</th>\n",
              "      <td>1</td>\n",
              "      <td>Romina</td>\n",
              "      <td>Brito</td>\n",
              "      <td>Marketing</td>\n",
              "      <td>03/05/2018</td>\n",
              "      <td>12/31/2018</td>\n",
              "      <td>N3</td>\n",
              "      <td>Grupo B</td>\n",
              "      <td>3</td>\n",
              "      <td>Rango 3</td>\n",
              "      <td>Rango 3</td>\n",
              "      <td>1</td>\n",
              "      <td>SI</td>\n",
              "    </tr>\n",
              "    <tr>\n",
              "      <th>1</th>\n",
              "      <td>2</td>\n",
              "      <td>Pedro</td>\n",
              "      <td>Lujan</td>\n",
              "      <td>Compras</td>\n",
              "      <td>03/06/2017</td>\n",
              "      <td>12/31/2021</td>\n",
              "      <td>N3</td>\n",
              "      <td>Grupo B</td>\n",
              "      <td>3</td>\n",
              "      <td>Rango 2</td>\n",
              "      <td>Rango 2</td>\n",
              "      <td>2</td>\n",
              "      <td>SI</td>\n",
              "    </tr>\n",
              "    <tr>\n",
              "      <th>2</th>\n",
              "      <td>3</td>\n",
              "      <td>Juan</td>\n",
              "      <td>Albornoz</td>\n",
              "      <td>IT</td>\n",
              "      <td>06/04/2018</td>\n",
              "      <td>04/30/2019</td>\n",
              "      <td>N4</td>\n",
              "      <td>Grupo C</td>\n",
              "      <td>4</td>\n",
              "      <td>Rango 4</td>\n",
              "      <td>Rango 4</td>\n",
              "      <td>5</td>\n",
              "      <td>NO</td>\n",
              "    </tr>\n",
              "    <tr>\n",
              "      <th>3</th>\n",
              "      <td>4</td>\n",
              "      <td>Sebastian</td>\n",
              "      <td>González</td>\n",
              "      <td>Legales</td>\n",
              "      <td>05/07/2018</td>\n",
              "      <td>05/30/2021</td>\n",
              "      <td>N2</td>\n",
              "      <td>Grupo A</td>\n",
              "      <td>4</td>\n",
              "      <td>Rango 2</td>\n",
              "      <td>Rango 2</td>\n",
              "      <td>3</td>\n",
              "      <td>SI</td>\n",
              "    </tr>\n",
              "    <tr>\n",
              "      <th>4</th>\n",
              "      <td>5</td>\n",
              "      <td>Franco</td>\n",
              "      <td>Rodríguez</td>\n",
              "      <td>Marketing</td>\n",
              "      <td>05/01/2017</td>\n",
              "      <td>11/30/2017</td>\n",
              "      <td>N5</td>\n",
              "      <td>Grupo C</td>\n",
              "      <td>6</td>\n",
              "      <td>Rango 5</td>\n",
              "      <td>Rango 4</td>\n",
              "      <td>1</td>\n",
              "      <td>SI</td>\n",
              "    </tr>\n",
              "  </tbody>\n",
              "</table>\n",
              "</div>\n",
              "      <button class=\"colab-df-convert\" onclick=\"convertToInteractive('df-9fc371cf-ffbc-4a2d-b3f8-4238334b628d')\"\n",
              "              title=\"Convert this dataframe to an interactive table.\"\n",
              "              style=\"display:none;\">\n",
              "        \n",
              "  <svg xmlns=\"http://www.w3.org/2000/svg\" height=\"24px\"viewBox=\"0 0 24 24\"\n",
              "       width=\"24px\">\n",
              "    <path d=\"M0 0h24v24H0V0z\" fill=\"none\"/>\n",
              "    <path d=\"M18.56 5.44l.94 2.06.94-2.06 2.06-.94-2.06-.94-.94-2.06-.94 2.06-2.06.94zm-11 1L8.5 8.5l.94-2.06 2.06-.94-2.06-.94L8.5 2.5l-.94 2.06-2.06.94zm10 10l.94 2.06.94-2.06 2.06-.94-2.06-.94-.94-2.06-.94 2.06-2.06.94z\"/><path d=\"M17.41 7.96l-1.37-1.37c-.4-.4-.92-.59-1.43-.59-.52 0-1.04.2-1.43.59L10.3 9.45l-7.72 7.72c-.78.78-.78 2.05 0 2.83L4 21.41c.39.39.9.59 1.41.59.51 0 1.02-.2 1.41-.59l7.78-7.78 2.81-2.81c.8-.78.8-2.07 0-2.86zM5.41 20L4 18.59l7.72-7.72 1.47 1.35L5.41 20z\"/>\n",
              "  </svg>\n",
              "      </button>\n",
              "      \n",
              "  <style>\n",
              "    .colab-df-container {\n",
              "      display:flex;\n",
              "      flex-wrap:wrap;\n",
              "      gap: 12px;\n",
              "    }\n",
              "\n",
              "    .colab-df-convert {\n",
              "      background-color: #E8F0FE;\n",
              "      border: none;\n",
              "      border-radius: 50%;\n",
              "      cursor: pointer;\n",
              "      display: none;\n",
              "      fill: #1967D2;\n",
              "      height: 32px;\n",
              "      padding: 0 0 0 0;\n",
              "      width: 32px;\n",
              "    }\n",
              "\n",
              "    .colab-df-convert:hover {\n",
              "      background-color: #E2EBFA;\n",
              "      box-shadow: 0px 1px 2px rgba(60, 64, 67, 0.3), 0px 1px 3px 1px rgba(60, 64, 67, 0.15);\n",
              "      fill: #174EA6;\n",
              "    }\n",
              "\n",
              "    [theme=dark] .colab-df-convert {\n",
              "      background-color: #3B4455;\n",
              "      fill: #D2E3FC;\n",
              "    }\n",
              "\n",
              "    [theme=dark] .colab-df-convert:hover {\n",
              "      background-color: #434B5C;\n",
              "      box-shadow: 0px 1px 3px 1px rgba(0, 0, 0, 0.15);\n",
              "      filter: drop-shadow(0px 1px 2px rgba(0, 0, 0, 0.3));\n",
              "      fill: #FFFFFF;\n",
              "    }\n",
              "  </style>\n",
              "\n",
              "      <script>\n",
              "        const buttonEl =\n",
              "          document.querySelector('#df-9fc371cf-ffbc-4a2d-b3f8-4238334b628d button.colab-df-convert');\n",
              "        buttonEl.style.display =\n",
              "          google.colab.kernel.accessAllowed ? 'block' : 'none';\n",
              "\n",
              "        async function convertToInteractive(key) {\n",
              "          const element = document.querySelector('#df-9fc371cf-ffbc-4a2d-b3f8-4238334b628d');\n",
              "          const dataTable =\n",
              "            await google.colab.kernel.invokeFunction('convertToInteractive',\n",
              "                                                     [key], {});\n",
              "          if (!dataTable) return;\n",
              "\n",
              "          const docLinkHtml = 'Like what you see? Visit the ' +\n",
              "            '<a target=\"_blank\" href=https://colab.research.google.com/notebooks/data_table.ipynb>data table notebook</a>'\n",
              "            + ' to learn more about interactive tables.';\n",
              "          element.innerHTML = '';\n",
              "          dataTable['output_type'] = 'display_data';\n",
              "          await google.colab.output.renderOutput(dataTable, element);\n",
              "          const docLink = document.createElement('div');\n",
              "          docLink.innerHTML = docLinkHtml;\n",
              "          element.appendChild(docLink);\n",
              "        }\n",
              "      </script>\n",
              "    </div>\n",
              "  </div>\n",
              "  "
            ]
          },
          "metadata": {},
          "execution_count": 3
        }
      ],
      "source": [
        "# Lectura simpre\n",
        "df_raw = pd.read_csv(path_github)\n",
        "df_raw.head()"
      ]
    },
    {
      "cell_type": "markdown",
      "source": [
        "# C. Preprocesamiento Dataset"
      ],
      "metadata": {
        "id": "LdtNVNaFzGH4"
      }
    },
    {
      "cell_type": "code",
      "source": [
        "df = df_raw.copy()\n",
        "df['Fecha comienzo'] = pd.to_datetime(df['Fecha comienzo'], format='%m/%d/%Y')\n",
        "df['Fecha fin'] = pd.to_datetime(df['Fecha fin'], format='%m/%d/%Y')\n",
        "df['dias_total'] = (df['Fecha fin']-df['Fecha comienzo']).dt.days\n",
        "df['Manager'] = df['Manager'].astype('int')\n",
        "df = df.sort_values(by='dias_total', ascending=True)\n",
        "df.head()"
      ],
      "metadata": {
        "id": "EeNhz_mcVUxL",
        "outputId": "011062fa-db60-432f-8f83-ed628815d29a",
        "colab": {
          "base_uri": "https://localhost:8080/",
          "height": 206
        }
      },
      "execution_count": null,
      "outputs": [
        {
          "output_type": "execute_result",
          "data": {
            "text/plain": [
              "    Id    Nombre   Apellido       Area Fecha comienzo  Fecha fin Nivel  \\\n",
              "11  12      Luis    Sánchez     Ventas     2020-07-13 2020-12-31    N5   \n",
              "22  23    Camila     Prieto         IT     2022-01-03 2022-07-01    N6   \n",
              "4    5    Franco  Rodríguez  Marketing     2017-05-01 2017-11-30    N5   \n",
              "24  25  Carolina   Petersen     Ventas     2021-07-05 2022-02-28    N7   \n",
              "19  20   Marcelo     Flores     Ventas     2021-09-06 2022-05-31    N2   \n",
              "\n",
              "   Grupo recruitment  Tiempo recruitment Rango Salarial RS competencia  \\\n",
              "11           Grupo C                   5        Rango 6        Rango 6   \n",
              "22           Grupo C                   6        Rango 6        Rango 6   \n",
              "4            Grupo C                   6        Rango 5        Rango 4   \n",
              "24           Grupo B                   4        Rango 6        Rango 6   \n",
              "19           Grupo C                   6        Rango 2        Rango 2   \n",
              "\n",
              "    Manager Realizo Cursos  dias_total  \n",
              "11        8             NO         171  \n",
              "22        5             NO         179  \n",
              "4         1             SI         213  \n",
              "24        8             SI         238  \n",
              "19        8             SI         267  "
            ],
            "text/html": [
              "\n",
              "  <div id=\"df-6d921dff-7264-4250-9866-235e4c4622c1\">\n",
              "    <div class=\"colab-df-container\">\n",
              "      <div>\n",
              "<style scoped>\n",
              "    .dataframe tbody tr th:only-of-type {\n",
              "        vertical-align: middle;\n",
              "    }\n",
              "\n",
              "    .dataframe tbody tr th {\n",
              "        vertical-align: top;\n",
              "    }\n",
              "\n",
              "    .dataframe thead th {\n",
              "        text-align: right;\n",
              "    }\n",
              "</style>\n",
              "<table border=\"1\" class=\"dataframe\">\n",
              "  <thead>\n",
              "    <tr style=\"text-align: right;\">\n",
              "      <th></th>\n",
              "      <th>Id</th>\n",
              "      <th>Nombre</th>\n",
              "      <th>Apellido</th>\n",
              "      <th>Area</th>\n",
              "      <th>Fecha comienzo</th>\n",
              "      <th>Fecha fin</th>\n",
              "      <th>Nivel</th>\n",
              "      <th>Grupo recruitment</th>\n",
              "      <th>Tiempo recruitment</th>\n",
              "      <th>Rango Salarial</th>\n",
              "      <th>RS competencia</th>\n",
              "      <th>Manager</th>\n",
              "      <th>Realizo Cursos</th>\n",
              "      <th>dias_total</th>\n",
              "    </tr>\n",
              "  </thead>\n",
              "  <tbody>\n",
              "    <tr>\n",
              "      <th>11</th>\n",
              "      <td>12</td>\n",
              "      <td>Luis</td>\n",
              "      <td>Sánchez</td>\n",
              "      <td>Ventas</td>\n",
              "      <td>2020-07-13</td>\n",
              "      <td>2020-12-31</td>\n",
              "      <td>N5</td>\n",
              "      <td>Grupo C</td>\n",
              "      <td>5</td>\n",
              "      <td>Rango 6</td>\n",
              "      <td>Rango 6</td>\n",
              "      <td>8</td>\n",
              "      <td>NO</td>\n",
              "      <td>171</td>\n",
              "    </tr>\n",
              "    <tr>\n",
              "      <th>22</th>\n",
              "      <td>23</td>\n",
              "      <td>Camila</td>\n",
              "      <td>Prieto</td>\n",
              "      <td>IT</td>\n",
              "      <td>2022-01-03</td>\n",
              "      <td>2022-07-01</td>\n",
              "      <td>N6</td>\n",
              "      <td>Grupo C</td>\n",
              "      <td>6</td>\n",
              "      <td>Rango 6</td>\n",
              "      <td>Rango 6</td>\n",
              "      <td>5</td>\n",
              "      <td>NO</td>\n",
              "      <td>179</td>\n",
              "    </tr>\n",
              "    <tr>\n",
              "      <th>4</th>\n",
              "      <td>5</td>\n",
              "      <td>Franco</td>\n",
              "      <td>Rodríguez</td>\n",
              "      <td>Marketing</td>\n",
              "      <td>2017-05-01</td>\n",
              "      <td>2017-11-30</td>\n",
              "      <td>N5</td>\n",
              "      <td>Grupo C</td>\n",
              "      <td>6</td>\n",
              "      <td>Rango 5</td>\n",
              "      <td>Rango 4</td>\n",
              "      <td>1</td>\n",
              "      <td>SI</td>\n",
              "      <td>213</td>\n",
              "    </tr>\n",
              "    <tr>\n",
              "      <th>24</th>\n",
              "      <td>25</td>\n",
              "      <td>Carolina</td>\n",
              "      <td>Petersen</td>\n",
              "      <td>Ventas</td>\n",
              "      <td>2021-07-05</td>\n",
              "      <td>2022-02-28</td>\n",
              "      <td>N7</td>\n",
              "      <td>Grupo B</td>\n",
              "      <td>4</td>\n",
              "      <td>Rango 6</td>\n",
              "      <td>Rango 6</td>\n",
              "      <td>8</td>\n",
              "      <td>SI</td>\n",
              "      <td>238</td>\n",
              "    </tr>\n",
              "    <tr>\n",
              "      <th>19</th>\n",
              "      <td>20</td>\n",
              "      <td>Marcelo</td>\n",
              "      <td>Flores</td>\n",
              "      <td>Ventas</td>\n",
              "      <td>2021-09-06</td>\n",
              "      <td>2022-05-31</td>\n",
              "      <td>N2</td>\n",
              "      <td>Grupo C</td>\n",
              "      <td>6</td>\n",
              "      <td>Rango 2</td>\n",
              "      <td>Rango 2</td>\n",
              "      <td>8</td>\n",
              "      <td>SI</td>\n",
              "      <td>267</td>\n",
              "    </tr>\n",
              "  </tbody>\n",
              "</table>\n",
              "</div>\n",
              "      <button class=\"colab-df-convert\" onclick=\"convertToInteractive('df-6d921dff-7264-4250-9866-235e4c4622c1')\"\n",
              "              title=\"Convert this dataframe to an interactive table.\"\n",
              "              style=\"display:none;\">\n",
              "        \n",
              "  <svg xmlns=\"http://www.w3.org/2000/svg\" height=\"24px\"viewBox=\"0 0 24 24\"\n",
              "       width=\"24px\">\n",
              "    <path d=\"M0 0h24v24H0V0z\" fill=\"none\"/>\n",
              "    <path d=\"M18.56 5.44l.94 2.06.94-2.06 2.06-.94-2.06-.94-.94-2.06-.94 2.06-2.06.94zm-11 1L8.5 8.5l.94-2.06 2.06-.94-2.06-.94L8.5 2.5l-.94 2.06-2.06.94zm10 10l.94 2.06.94-2.06 2.06-.94-2.06-.94-.94-2.06-.94 2.06-2.06.94z\"/><path d=\"M17.41 7.96l-1.37-1.37c-.4-.4-.92-.59-1.43-.59-.52 0-1.04.2-1.43.59L10.3 9.45l-7.72 7.72c-.78.78-.78 2.05 0 2.83L4 21.41c.39.39.9.59 1.41.59.51 0 1.02-.2 1.41-.59l7.78-7.78 2.81-2.81c.8-.78.8-2.07 0-2.86zM5.41 20L4 18.59l7.72-7.72 1.47 1.35L5.41 20z\"/>\n",
              "  </svg>\n",
              "      </button>\n",
              "      \n",
              "  <style>\n",
              "    .colab-df-container {\n",
              "      display:flex;\n",
              "      flex-wrap:wrap;\n",
              "      gap: 12px;\n",
              "    }\n",
              "\n",
              "    .colab-df-convert {\n",
              "      background-color: #E8F0FE;\n",
              "      border: none;\n",
              "      border-radius: 50%;\n",
              "      cursor: pointer;\n",
              "      display: none;\n",
              "      fill: #1967D2;\n",
              "      height: 32px;\n",
              "      padding: 0 0 0 0;\n",
              "      width: 32px;\n",
              "    }\n",
              "\n",
              "    .colab-df-convert:hover {\n",
              "      background-color: #E2EBFA;\n",
              "      box-shadow: 0px 1px 2px rgba(60, 64, 67, 0.3), 0px 1px 3px 1px rgba(60, 64, 67, 0.15);\n",
              "      fill: #174EA6;\n",
              "    }\n",
              "\n",
              "    [theme=dark] .colab-df-convert {\n",
              "      background-color: #3B4455;\n",
              "      fill: #D2E3FC;\n",
              "    }\n",
              "\n",
              "    [theme=dark] .colab-df-convert:hover {\n",
              "      background-color: #434B5C;\n",
              "      box-shadow: 0px 1px 3px 1px rgba(0, 0, 0, 0.15);\n",
              "      filter: drop-shadow(0px 1px 2px rgba(0, 0, 0, 0.3));\n",
              "      fill: #FFFFFF;\n",
              "    }\n",
              "  </style>\n",
              "\n",
              "      <script>\n",
              "        const buttonEl =\n",
              "          document.querySelector('#df-6d921dff-7264-4250-9866-235e4c4622c1 button.colab-df-convert');\n",
              "        buttonEl.style.display =\n",
              "          google.colab.kernel.accessAllowed ? 'block' : 'none';\n",
              "\n",
              "        async function convertToInteractive(key) {\n",
              "          const element = document.querySelector('#df-6d921dff-7264-4250-9866-235e4c4622c1');\n",
              "          const dataTable =\n",
              "            await google.colab.kernel.invokeFunction('convertToInteractive',\n",
              "                                                     [key], {});\n",
              "          if (!dataTable) return;\n",
              "\n",
              "          const docLinkHtml = 'Like what you see? Visit the ' +\n",
              "            '<a target=\"_blank\" href=https://colab.research.google.com/notebooks/data_table.ipynb>data table notebook</a>'\n",
              "            + ' to learn more about interactive tables.';\n",
              "          element.innerHTML = '';\n",
              "          dataTable['output_type'] = 'display_data';\n",
              "          await google.colab.output.renderOutput(dataTable, element);\n",
              "          const docLink = document.createElement('div');\n",
              "          docLink.innerHTML = docLinkHtml;\n",
              "          element.appendChild(docLink);\n",
              "        }\n",
              "      </script>\n",
              "    </div>\n",
              "  </div>\n",
              "  "
            ]
          },
          "metadata": {},
          "execution_count": 4
        }
      ]
    },
    {
      "cell_type": "markdown",
      "source": [
        "# D. EDA"
      ],
      "metadata": {
        "id": "vzmZvaijzNgc"
      }
    },
    {
      "cell_type": "markdown",
      "source": [
        "## ---> Variables categoricas Vs Target"
      ],
      "metadata": {
        "id": "29_g8Wc9zZp_"
      }
    },
    {
      "cell_type": "code",
      "source": [
        "col_cat = ['Area', 'Nivel', 'Grupo recruitment', 'Rango Salarial', 'RS competencia', 'Realizo Cursos', 'Manager']\n",
        "\n",
        "fig, axs = plt.subplots(nrows=2, ncols=len(col_cat), sharey=False)\n",
        "fig.set_size_inches(28, 12)\n",
        "\n",
        "for index, col in enumerate(col_cat):\n",
        "  col_order = sorted(df[col].unique())\n",
        "  \n",
        "  sns.boxplot(ax=axs[0,index], x=col, y='dias_total', data=df, order=col_order)\n",
        "  sns.stripplot(ax=axs[0,index], x=col, y='dias_total', data=df, order=col_order, color='red')\n",
        "  axs[0,index].set_xticklabels([])\n",
        "  axs[0,index].set_xlabel('')\n",
        "  if index>0:\n",
        "    axs[0,index].set_yticklabels([])\n",
        "    axs[0,index].set_ylabel('')\n",
        "\n",
        "  sns.countplot(ax=axs[1, index], x=col, data=df, order=col_order)\n",
        "  axs[1, index].set_xticklabels(axs[1, index].get_xticklabels(), rotation=45)\n",
        "\n",
        "plt.show()"
      ],
      "metadata": {
        "colab": {
          "base_uri": "https://localhost:8080/",
          "height": 699
        },
        "id": "LLvw4SUfx-DH",
        "outputId": "7c8bd232-016e-400f-bd16-64f21e7e627c"
      },
      "execution_count": null,
      "outputs": [
        {
          "output_type": "display_data",
          "data": {
            "text/plain": [
              "<Figure size 2016x864 with 14 Axes>"
            ],
            "image/png": "[encoded data removed]"
          },
          "metadata": {}
        }
      ]
    },
    {
      "cell_type": "markdown",
      "source": [
        "## ---> Manager vs otras categorías"
      ],
      "metadata": {
        "id": "9aTM3XGUzkPp"
      }
    },
    {
      "cell_type": "code",
      "source": [
        "col_cat = ['Area', 'Nivel', 'Grupo recruitment', 'Rango Salarial', 'RS competencia', 'Realizo Cursos', 'Manager']\n",
        "\n",
        "col_interest = 'Manager'\n",
        "\n",
        "list_combinations = [(col1, col2) for col1, col2 in itertools.permutations(col_cat, 2) if col1 == col_interest]\n",
        "\n",
        "fig, axs = plt.subplots(nrows=1, ncols=len(col_cat)-1)\n",
        "fig.set_size_inches(28, 4)\n",
        "\n",
        "for index, tuple_combination in enumerate(list_combinations): \n",
        "\n",
        "  freq_table = pd.crosstab(df[tuple_combination[0]], df[tuple_combination[1]])\n",
        "\n",
        "  sns.heatmap(data=freq_table, cmap='Blues', annot=True, fmt='d', ax=axs[index], cbar=False, vmin=0, vmax=4)\n",
        "\n",
        "plt.show()"
      ],
      "metadata": {
        "colab": {
          "base_uri": "https://localhost:8080/",
          "height": 312
        },
        "id": "ePi8XzF7x-A7",
        "outputId": "587296c2-fece-4e1e-bd2b-87a2a4a58a41"
      },
      "execution_count": null,
      "outputs": [
        {
          "output_type": "display_data",
          "data": {
            "text/plain": [
              "<Figure size 2016x288 with 6 Axes>"
            ],
            "image/png": "[encoded data removed]"
          },
          "metadata": {}
        }
      ]
    },
    {
      "cell_type": "markdown",
      "source": [
        "## ---> Grupo recruitment vs otras categorías"
      ],
      "metadata": {
        "id": "tKxim3hQzuKL"
      }
    },
    {
      "cell_type": "code",
      "source": [
        "col_cat = ['Area', 'Nivel', 'Grupo recruitment', 'Rango Salarial', 'RS competencia', 'Realizo Cursos', 'Manager']\n",
        "\n",
        "col_interest = 'Grupo recruitment'\n",
        "\n",
        "list_combinations = [(col1, col2) for col1, col2 in itertools.permutations(col_cat, 2) if col1 == col_interest]\n",
        "\n",
        "fig, axs = plt.subplots(nrows=1, ncols=len(col_cat)-1)\n",
        "fig.set_size_inches(28, 4)\n",
        "\n",
        "for index, tuple_combination in enumerate(list_combinations): \n",
        "\n",
        "  freq_table = pd.crosstab(df[tuple_combination[0]], df[tuple_combination[1]])\n",
        "\n",
        "  sns.heatmap(data=freq_table, cmap='Blues', annot=True, fmt='d', ax=axs[index], cbar=False)\n",
        "\n",
        "plt.show()"
      ],
      "metadata": {
        "colab": {
          "base_uri": "https://localhost:8080/",
          "height": 312
        },
        "id": "a7Lxrf7fyNa5",
        "outputId": "448b6fe7-d8aa-47ff-c155-f44f00b83484"
      },
      "execution_count": null,
      "outputs": [
        {
          "output_type": "display_data",
          "data": {
            "text/plain": [
              "<Figure size 2016x288 with 6 Axes>"
            ],
            "image/png": "[encoded data removed]"
          },
          "metadata": {}
        }
      ]
    },
    {
      "cell_type": "markdown",
      "source": [
        "## ---> Area vs otras categorías"
      ],
      "metadata": {
        "id": "RXTGRALWz22Z"
      }
    },
    {
      "cell_type": "code",
      "source": [
        "col_cat = ['Area', 'Nivel', 'Grupo recruitment', 'Rango Salarial', 'RS competencia', 'Realizo Cursos', 'Manager']\n",
        "\n",
        "col_interest = 'Area'\n",
        "\n",
        "list_combinations = [(col1, col2) for col1, col2 in itertools.permutations(col_cat, 2) if col1 == col_interest]\n",
        "\n",
        "fig, axs = plt.subplots(nrows=1, ncols=len(col_cat)-1)\n",
        "fig.set_size_inches(28, 4)\n",
        "\n",
        "for index, tuple_combination in enumerate(list_combinations): \n",
        "\n",
        "  freq_table = pd.crosstab(df[tuple_combination[0]], df[tuple_combination[1]])\n",
        "\n",
        "  sns.heatmap(data=freq_table, cmap='Blues', annot=True, fmt='d', ax=axs[index], cbar=False, vmin=0, vmax=4)\n",
        "\n",
        "plt.show()"
      ],
      "metadata": {
        "colab": {
          "base_uri": "https://localhost:8080/",
          "height": 290
        },
        "id": "Ni5U9l4HyNYt",
        "outputId": "e4db99c6-3069-4e0c-ab21-f7fa5362f4ff"
      },
      "execution_count": null,
      "outputs": [
        {
          "output_type": "display_data",
          "data": {
            "text/plain": [
              "<Figure size 2016x288 with 6 Axes>"
            ],
            "image/png": "[encoded data removed]"
          },
          "metadata": {}
        }
      ]
    },
    {
      "cell_type": "code",
      "source": [],
      "metadata": {
        "id": "mL9jZWOwyNXA"
      },
      "execution_count": null,
      "outputs": []
    },
    {
      "cell_type": "code",
      "source": [],
      "metadata": {
        "id": "CAVSkUDvyNU3"
      },
      "execution_count": null,
      "outputs": []
    },
    {
      "cell_type": "markdown",
      "source": [
        "# XXX. Otras exploraciones incompletas"
      ],
      "metadata": {
        "id": "-kw0sFtXz-Kn"
      }
    },
    {
      "cell_type": "code",
      "source": [
        "detener"
      ],
      "metadata": {
        "colab": {
          "base_uri": "https://localhost:8080/",
          "height": 165
        },
        "id": "BHxir7GXyNTF",
        "outputId": "e6b8cb0c-15d8-49e2-db16-22ea15ebc755"
      },
      "execution_count": null,
      "outputs": [
        {
          "output_type": "error",
          "ename": "NameError",
          "evalue": "ignored",
          "traceback": [
            "\u001b[0;31m---------------------------------------------------------------------------\u001b[0m",
            "\u001b[0;31mNameError\u001b[0m                                 Traceback (most recent call last)",
            "\u001b[0;32m<ipython-input-9-ce686b71d293>\u001b[0m in \u001b[0;36m<module>\u001b[0;34m\u001b[0m\n\u001b[0;32m----> 1\u001b[0;31m \u001b[0mdetener\u001b[0m\u001b[0;34m\u001b[0m\u001b[0;34m\u001b[0m\u001b[0m\n\u001b[0m",
            "\u001b[0;31mNameError\u001b[0m: name 'detener' is not defined"
          ]
        }
      ]
    },
    {
      "cell_type": "code",
      "source": [],
      "metadata": {
        "id": "1BrJdbvhyNQ_"
      },
      "execution_count": null,
      "outputs": []
    },
    {
      "cell_type": "code",
      "source": [],
      "metadata": {
        "id": "z6Vaj2N0yNOs"
      },
      "execution_count": null,
      "outputs": []
    },
    {
      "cell_type": "code",
      "source": [],
      "metadata": {
        "id": "XdP2dhZ-yNML"
      },
      "execution_count": null,
      "outputs": []
    },
    {
      "cell_type": "code",
      "source": [],
      "metadata": {
        "id": "0xwoS0HRx9_C"
      },
      "execution_count": null,
      "outputs": []
    },
    {
      "cell_type": "code",
      "source": [],
      "metadata": {
        "id": "Xy6KAfnox98g"
      },
      "execution_count": null,
      "outputs": []
    },
    {
      "cell_type": "code",
      "source": [],
      "metadata": {
        "id": "ZqXmPS-Px96K"
      },
      "execution_count": null,
      "outputs": []
    },
    {
      "cell_type": "code",
      "source": [],
      "metadata": {
        "id": "csM5CjkIx93j"
      },
      "execution_count": null,
      "outputs": []
    },
    {
      "cell_type": "code",
      "source": [
        "df['Mes'] = df['Fecha fin'].dt.month\n",
        "df['Año'] = df['Fecha fin'].dt.year"
      ],
      "metadata": {
        "id": "znYYWRnbLmSj"
      },
      "execution_count": null,
      "outputs": []
    },
    {
      "cell_type": "code",
      "source": [
        "df"
      ],
      "metadata": {
        "id": "2qhsQdzsLsuD"
      },
      "execution_count": null,
      "outputs": []
    },
    {
      "cell_type": "code",
      "source": [],
      "metadata": {
        "id": "tRes9FQRMHiN"
      },
      "execution_count": null,
      "outputs": []
    },
    {
      "cell_type": "code",
      "source": [],
      "metadata": {
        "id": "2FoImYiFx5l5"
      },
      "execution_count": null,
      "outputs": []
    },
    {
      "cell_type": "code",
      "source": [],
      "metadata": {
        "id": "mfybS5g7x5j_"
      },
      "execution_count": null,
      "outputs": []
    },
    {
      "cell_type": "code",
      "source": [],
      "metadata": {
        "id": "M4QYHa19x5ib"
      },
      "execution_count": null,
      "outputs": []
    },
    {
      "cell_type": "code",
      "source": [],
      "metadata": {
        "id": "GdjNoRhPx5hA"
      },
      "execution_count": null,
      "outputs": []
    },
    {
      "cell_type": "code",
      "source": [],
      "metadata": {
        "id": "we5ngK7Xx5eF"
      },
      "execution_count": null,
      "outputs": []
    },
    {
      "cell_type": "code",
      "source": [],
      "metadata": {
        "id": "WplDXvxHx5bt"
      },
      "execution_count": null,
      "outputs": []
    },
    {
      "cell_type": "code",
      "source": [],
      "metadata": {
        "id": "My7zkCvKx5ZK"
      },
      "execution_count": null,
      "outputs": []
    },
    {
      "cell_type": "code",
      "source": [],
      "metadata": {
        "id": "ARchMLFvx5Ws"
      },
      "execution_count": null,
      "outputs": []
    },
    {
      "cell_type": "code",
      "source": [],
      "metadata": {
        "id": "na2sHKYzx5UV"
      },
      "execution_count": null,
      "outputs": []
    },
    {
      "cell_type": "code",
      "source": [
        "fig, ax = plt.subplots()\n",
        "fig.set_size_inches(28, 4)\n",
        "sns.countplot(x='Mes', data=df, hue='Año')\n",
        "plt.show()"
      ],
      "metadata": {
        "id": "Tth1-E37LwKU"
      },
      "execution_count": null,
      "outputs": []
    },
    {
      "cell_type": "code",
      "source": [
        " datos_agregados = df.groupby(pd.Grouper(key='Fecha fin', freq='M'))['Id'].count().reset_index()\n",
        " \n",
        "\n",
        " sns.barplot(x='Fecha fin', y='Id', data=datos_agregados)\n",
        " plt.show()"
      ],
      "metadata": {
        "id": "5PVHhTbQI83Z"
      },
      "execution_count": null,
      "outputs": []
    },
    {
      "cell_type": "code",
      "source": [],
      "metadata": {
        "id": "w4_T0nCyI8x_"
      },
      "execution_count": null,
      "outputs": []
    },
    {
      "cell_type": "code",
      "source": [],
      "metadata": {
        "id": "a38MYAzFI8vk"
      },
      "execution_count": null,
      "outputs": []
    },
    {
      "cell_type": "code",
      "source": [
        "col_cat = ['Area', 'Nivel', 'Grupo recruitment', 'Rango Salarial', 'RS competencia', 'Realizo Cursos', 'Manager']"
      ],
      "metadata": {
        "id": "YmnlhTm6yYnI"
      },
      "execution_count": null,
      "outputs": []
    },
    {
      "cell_type": "code",
      "source": [
        "combinations = list(itertools.combinations(col_cat, 2))\n",
        "combinations"
      ],
      "metadata": {
        "id": "sIH_Q1Sq4v8Z"
      },
      "execution_count": null,
      "outputs": []
    },
    {
      "cell_type": "code",
      "source": [],
      "metadata": {
        "id": "XDaO0w5L6W5r"
      },
      "execution_count": null,
      "outputs": []
    },
    {
      "cell_type": "code",
      "source": [
        "\n",
        "\n",
        "col_cat = ['Area', 'Nivel', 'Grupo recruitment', 'Rango Salarial', 'RS competencia', 'Realizo Cursos', 'Manager']\n",
        "\n",
        "area_combinations = [(col1, col2) for col1, col2 in itertools.combinations(col_cat, 2) if 'Nivel' in (col1, col2)]\n",
        "\n",
        "print(area_combinations)\n"
      ],
      "metadata": {
        "id": "OTlKcz475nAj"
      },
      "execution_count": null,
      "outputs": []
    },
    {
      "cell_type": "code",
      "source": [
        "import itertools\n",
        "\n",
        "col_cat = ['Area', 'Nivel', 'Grupo recruitment', 'Rango Salarial', 'RS competencia', 'Realizo Cursos', 'Manager']\n",
        "\n",
        "nivel_combinations = [(col1, col2) for col1, col2 in itertools.permutations(col_cat, 2) if col1 == 'Manager']\n",
        "\n",
        "print(nivel_combinations)\n"
      ],
      "metadata": {
        "id": "NWu8yqJx5m93"
      },
      "execution_count": null,
      "outputs": []
    },
    {
      "cell_type": "code",
      "source": [
        "col_cat = ['Area', 'Nivel', 'Grupo recruitment', 'Rango Salarial', 'RS competencia', 'Realizo Cursos', 'Manager']\n",
        "\n",
        "list_combinations = [(col1, col2) for col1, col2 in itertools.permutations(col_cat, 2) if col1 == 'Manager']\n",
        "\n",
        "\n",
        "\n",
        "\n",
        "\n",
        "\n",
        "list_combinations\n"
      ],
      "metadata": {
        "id": "XsiyCiUw6IYK"
      },
      "execution_count": null,
      "outputs": []
    },
    {
      "cell_type": "code",
      "source": [
        "col_cat = ['Area', 'Nivel', 'Grupo recruitment', 'Rango Salarial', 'RS competencia', 'Realizo Cursos', 'Manager']\n",
        "\n",
        "col_interest = 'Manager'\n",
        "\n",
        "list_combinations = [(col1, col2) for col1, col2 in itertools.permutations(col_cat, 2) if col1 == col_interest]\n",
        "\n",
        "fig, axs = plt.subplots(nrows=1, ncols=len(col_cat)-1)\n",
        "fig.set_size_inches(28, 4)\n",
        "\n",
        "for index, tuple_combination in enumerate(list_combinations): \n",
        "\n",
        "  freq_table = pd.crosstab(df[tuple_combination[0]], df[tuple_combination[1]])\n",
        "\n",
        "  sns.heatmap(data=freq_table, cmap='Blues', annot=True, fmt='d', ax=axs[index], cbar=False, vmin=0, vmax=4)\n",
        "\n",
        "plt.show()\n"
      ],
      "metadata": {
        "id": "Zi6Zbc_T6IV5"
      },
      "execution_count": null,
      "outputs": []
    },
    {
      "cell_type": "code",
      "source": [
        "col_cat = ['Area', 'Nivel', 'Grupo recruitment', 'Rango Salarial', 'RS competencia', 'Realizo Cursos', 'Manager']\n",
        "\n",
        "col_interest = 'Grupo recruitment'\n",
        "\n",
        "list_combinations = [(col1, col2) for col1, col2 in itertools.permutations(col_cat, 2) if col1 == col_interest]\n",
        "\n",
        "fig, axs = plt.subplots(nrows=1, ncols=len(col_cat)-1)\n",
        "fig.set_size_inches(28, 4)\n",
        "\n",
        "for index, tuple_combination in enumerate(list_combinations): \n",
        "\n",
        "  freq_table = pd.crosstab(df[tuple_combination[0]], df[tuple_combination[1]])\n",
        "\n",
        "  sns.heatmap(data=freq_table, cmap='Blues', annot=True, fmt='d', ax=axs[index], cbar=False)\n",
        "\n",
        "plt.show()"
      ],
      "metadata": {
        "id": "cUuXs0Cr6IT2"
      },
      "execution_count": null,
      "outputs": []
    },
    {
      "cell_type": "code",
      "source": [
        "col_cat = ['Area', 'Nivel', 'Grupo recruitment', 'Rango Salarial', 'RS competencia', 'Realizo Cursos', 'Manager']\n",
        "\n",
        "col_interest = 'Area'\n",
        "\n",
        "list_combinations = [(col1, col2) for col1, col2 in itertools.permutations(col_cat, 2) if col1 == col_interest]\n",
        "\n",
        "fig, axs = plt.subplots(nrows=1, ncols=len(col_cat)-1)\n",
        "fig.set_size_inches(28, 4)\n",
        "\n",
        "for index, tuple_combination in enumerate(list_combinations): \n",
        "\n",
        "  freq_table = pd.crosstab(df[tuple_combination[0]], df[tuple_combination[1]])\n",
        "\n",
        "  sns.heatmap(data=freq_table, cmap='Blues', annot=True, fmt='d', ax=axs[index], cbar=False, vmin=0, vmax=4)\n",
        "\n",
        "plt.show()"
      ],
      "metadata": {
        "id": "FzhmJH1s_Way"
      },
      "execution_count": null,
      "outputs": []
    },
    {
      "cell_type": "code",
      "source": [],
      "metadata": {
        "id": "NtCW1PGD_WYs"
      },
      "execution_count": null,
      "outputs": []
    },
    {
      "cell_type": "code",
      "source": [],
      "metadata": {
        "id": "V6HZHAgy_WWq"
      },
      "execution_count": null,
      "outputs": []
    },
    {
      "cell_type": "code",
      "source": [],
      "metadata": {
        "id": "heDW34FL_WUM"
      },
      "execution_count": null,
      "outputs": []
    },
    {
      "cell_type": "code",
      "source": [],
      "metadata": {
        "id": "mdjfPR5J_WSB"
      },
      "execution_count": null,
      "outputs": []
    },
    {
      "cell_type": "code",
      "source": [
        "len(combinations)"
      ],
      "metadata": {
        "id": "0I0pz4Z65C8n"
      },
      "execution_count": null,
      "outputs": []
    },
    {
      "cell_type": "code",
      "source": [
        "import itertools"
      ],
      "metadata": {
        "id": "OkqDOAs34jrr"
      },
      "execution_count": null,
      "outputs": []
    },
    {
      "cell_type": "code",
      "source": [
        "categories = ['sex', 'day', 'time', 'smoker']\n",
        "combinations = list(itertools.combinations(categories, 2))\n",
        "combinations"
      ],
      "metadata": {
        "id": "dU9skoSR4c30"
      },
      "execution_count": null,
      "outputs": []
    },
    {
      "cell_type": "code",
      "source": [],
      "metadata": {
        "id": "R8LTCNTO4c1d"
      },
      "execution_count": null,
      "outputs": []
    },
    {
      "cell_type": "code",
      "source": [
        "col_cat.remove('Area')\n",
        "col_cat"
      ],
      "metadata": {
        "id": "BPQhE4yX2gr3"
      },
      "execution_count": null,
      "outputs": []
    },
    {
      "cell_type": "code",
      "source": [
        "col_cat = ['Area', 'Nivel', 'Grupo recruitment', 'Rango Salarial', 'RS competencia', 'Realizo Cursos', 'Manager']\n",
        "\n",
        "for index, col in enumerate(col_cat):\n",
        "  col_cat_restricted = sorted(df[col].unique())\n",
        "\n",
        "\n",
        "fig, axs = plt.subplots(nrows=1, ncols=len(col_cat), sharey=False)\n",
        "fig.set_size_inches(28, 12)\n",
        "\n",
        "freq_table = pd.crosstab(df['Area'], df['Manager'])\n",
        "\n",
        "\n"
      ],
      "metadata": {
        "id": "T173QK4SzvU_"
      },
      "execution_count": null,
      "outputs": []
    },
    {
      "cell_type": "code",
      "source": [
        "\n",
        "\n",
        "# Creamos un subplot con Matplotlib\n",
        "fig, ax = plt.subplots()\n",
        "\n",
        "# Creamos el heatmap en el objeto Axes\n",
        "sns.heatmap(data=freq_table, cmap='Blues', annot=True, fmt='d', ax=ax)\n",
        "\n",
        "# Personalizamos el gráfico\n",
        "ax.set_title('Frecuencia de renuncias por día y género')\n",
        "ax.set_xlabel('Manager')\n",
        "ax.set_ylabel('Area')\n",
        "\n",
        "# Mostramos el gráfico\n",
        "plt.show()"
      ],
      "metadata": {
        "id": "SYFH3RPkyYlb"
      },
      "execution_count": null,
      "outputs": []
    },
    {
      "cell_type": "code",
      "source": [],
      "metadata": {
        "id": "R4_94-pS0Yre"
      },
      "execution_count": null,
      "outputs": []
    },
    {
      "cell_type": "code",
      "source": [],
      "metadata": {
        "id": "GLxKJvD80YoT"
      },
      "execution_count": null,
      "outputs": []
    },
    {
      "cell_type": "code",
      "source": [],
      "metadata": {
        "id": "Zd3arouv0YlO"
      },
      "execution_count": null,
      "outputs": []
    },
    {
      "cell_type": "code",
      "source": [],
      "metadata": {
        "id": "ADyTfUCMyYi9"
      },
      "execution_count": null,
      "outputs": []
    },
    {
      "cell_type": "code",
      "source": [
        "fig, axs = plt.subplots()\n",
        "fig.set_size_inches(24, 8)\n",
        "sns.histplot(data = df, x='dias_total', kde=True, bins=20)\n",
        "plt.show()"
      ],
      "metadata": {
        "id": "VSzQRj-RcCo4"
      },
      "execution_count": null,
      "outputs": []
    },
    {
      "cell_type": "code",
      "source": [
        "col_cat = ['Area', 'Nivel', 'Grupo recruitment', 'Rango Salarial', 'RS competencia', 'Realizo Cursos', 'Manager']\n",
        "\n",
        "fig, axs = plt.subplots(nrows=2, ncols=len(col_cat), sharey=False)\n",
        "fig.set_size_inches(28, 12)\n",
        "\n",
        "for index, col in enumerate(col_cat):\n",
        "  col_order = sorted(df[col].unique())\n",
        "  \n",
        "  sns.boxplot(ax=axs[0,index], x=col, y='dias_total', data=df, order=col_order)\n",
        "  sns.stripplot(ax=axs[0,index], x=col, y='dias_total', data=df, order=col_order, color='red')\n",
        "  axs[0,index].set_xticklabels([])\n",
        "  axs[0,index].set_xlabel('')\n",
        "  if index>0:\n",
        "    axs[0,index].set_yticklabels([])\n",
        "    axs[0,index].set_ylabel('')\n",
        "\n",
        "  sns.countplot(ax=axs[1, index], x=col, data=df, order=col_order)\n",
        "  axs[1, index].set_xticklabels(axs[1, index].get_xticklabels(), rotation=45)\n",
        "\n",
        "plt.show()"
      ],
      "metadata": {
        "id": "KA8cl-debudZ"
      },
      "execution_count": null,
      "outputs": []
    },
    {
      "cell_type": "code",
      "source": [],
      "metadata": {
        "id": "8RKmnRvCijKY"
      },
      "execution_count": null,
      "outputs": []
    },
    {
      "cell_type": "code",
      "source": [],
      "metadata": {
        "id": "fq7clORXrKKp"
      },
      "execution_count": null,
      "outputs": []
    },
    {
      "cell_type": "code",
      "source": [],
      "metadata": {
        "id": "l2KluUWgFeKp"
      },
      "execution_count": null,
      "outputs": []
    },
    {
      "cell_type": "code",
      "source": [],
      "metadata": {
        "id": "aJac0grlFeIh"
      },
      "execution_count": null,
      "outputs": []
    },
    {
      "cell_type": "code",
      "source": [],
      "metadata": {
        "id": "LOBfngh0FeEL"
      },
      "execution_count": null,
      "outputs": []
    },
    {
      "cell_type": "code",
      "source": [],
      "metadata": {
        "id": "ffmtEjEBFeB8"
      },
      "execution_count": null,
      "outputs": []
    },
    {
      "cell_type": "code",
      "source": [],
      "metadata": {
        "id": "FdltR1bRFd_l"
      },
      "execution_count": null,
      "outputs": []
    },
    {
      "cell_type": "code",
      "source": [],
      "metadata": {
        "id": "bp4LxVnArKIe"
      },
      "execution_count": null,
      "outputs": []
    },
    {
      "cell_type": "code",
      "source": [
        "import seaborn as sns\n",
        "import matplotlib.pyplot as plt\n",
        "\n",
        "# Crear un DataFrame con los datos\n",
        "data = sns.load_dataset(\"tips\")\n",
        "\n",
        "# Crear una instancia de FacetGrid\n",
        "g = sns.FacetGrid(data)\n",
        "\n",
        "# Especificar los valores para cada gráfico\n",
        "g.map(sns.histplot, \"total_bill\", bins=20)\n",
        "\n",
        "# Especificar los ticks y etiquetas del eje x\n",
        "g.set(yticks=[180, 365, 725, 1000])\n",
        "\n",
        "# Mostrar el plot\n",
        "plt.show()\n",
        "\n"
      ],
      "metadata": {
        "id": "mehzfo-qrKGK"
      },
      "execution_count": null,
      "outputs": []
    },
    {
      "cell_type": "code",
      "source": [
        "import seaborn as sns\n",
        "\n",
        "# Cargar el conjunto de datos \"tips\" de Seaborn\n",
        "tips = sns.load_dataset(\"tips\")\n",
        "\n",
        "# Crear una retícula con subretículas utilizando las variables \"sex\" y \"smoker\"\n",
        "g = sns.FacetGrid(tips, row=\"sex\", col=\"smoker\")\n",
        "\n",
        "# Especificar el tipo de gráfico que se mostrará en cada subretícula\n",
        "g.map(sns.histplot, \"total_bill\")\n",
        "\n",
        "# Mostrar la retícula de gráficos\n",
        "g.fig.suptitle(\"Distribución del total de la cuenta\")\n",
        "g.fig.subplots_adjust(top=0.85)\n",
        "g.set_axis_labels(\"Total de la cuenta\", \"Número de clientes\")\n",
        "g.fig.tight_layout()\n",
        "sns.despine()\n"
      ],
      "metadata": {
        "id": "IiqQ53DSijIr"
      },
      "execution_count": null,
      "outputs": []
    },
    {
      "cell_type": "code",
      "source": [],
      "metadata": {
        "id": "YOkdQHFGijGD"
      },
      "execution_count": null,
      "outputs": []
    },
    {
      "cell_type": "code",
      "source": [],
      "metadata": {
        "id": "YTPREjBSbuWl"
      },
      "execution_count": null,
      "outputs": []
    },
    {
      "cell_type": "code",
      "source": [
        "col_cat = ['Area', 'Nivel', 'Grupo recruitment', 'Rango Salarial', 'RS competencia', 'Realizo Cursos', 'Manager']\n",
        "\n",
        "fig, axs = plt.subplots(nrows=1, ncols=len(col_cat), sharey=True)\n",
        "fig.set_size_inches(28, 6)\n",
        "\n",
        "for index, col in enumerate(col_cat):\n",
        "  col_order = sorted(df[col].unique())\n",
        "  sns.boxplot(ax=axs[index], x=col, y='dias_total', data=df, order=col_order)\n",
        "  axs[index].set_xticklabels(axs[index].get_xticklabels(), rotation=45)\n",
        "plt.show()"
      ],
      "metadata": {
        "id": "AhnO79tYNiRL"
      },
      "execution_count": null,
      "outputs": []
    },
    {
      "cell_type": "code",
      "source": [
        "# col_cat = ['Area', 'Nivel', 'Grupo recruitment', 'Rango Salarial', 'RS competencia', 'Realizo Cursos']\n",
        "\n",
        "fig, axs = plt.subplots(nrows=1, ncols=len(col_cat), sharey=False)\n",
        "fig.set_size_inches(28, 10)\n",
        "\n",
        "for index, col in enumerate(col_cat):\n",
        "  col_order = sorted(df[col].unique())\n",
        "  sns.countplot(ax=axs[index], x=col, data=df, order=col_order)\n",
        "  axs[index].set_xticklabels(axs[index].get_xticklabels(), rotation=45)\n",
        "plt.show()"
      ],
      "metadata": {
        "id": "OWVY8XikNiO0"
      },
      "execution_count": null,
      "outputs": []
    },
    {
      "cell_type": "code",
      "source": [],
      "metadata": {
        "id": "l_vL_5FuT6K_"
      },
      "execution_count": null,
      "outputs": []
    },
    {
      "cell_type": "code",
      "source": [],
      "metadata": {
        "id": "_h6LWjxsT6Ha"
      },
      "execution_count": null,
      "outputs": []
    },
    {
      "cell_type": "code",
      "source": [],
      "metadata": {
        "id": "ixo-eA3FT6FB"
      },
      "execution_count": null,
      "outputs": []
    },
    {
      "cell_type": "code",
      "source": [],
      "metadata": {
        "id": "0iVFwLDCT6Ci"
      },
      "execution_count": null,
      "outputs": []
    },
    {
      "cell_type": "code",
      "source": [],
      "metadata": {
        "id": "PC40GBVZNiMj"
      },
      "execution_count": null,
      "outputs": []
    },
    {
      "cell_type": "code",
      "source": [
        "df.info()"
      ],
      "metadata": {
        "id": "-AJ6lOLeM5CR"
      },
      "execution_count": null,
      "outputs": []
    },
    {
      "cell_type": "code",
      "source": [
        "cat"
      ],
      "metadata": {
        "id": "cqWSw3SHM-w4"
      },
      "execution_count": null,
      "outputs": []
    },
    {
      "cell_type": "code",
      "source": [
        "import pandas as pd\n",
        "from scipy.stats import f_oneway"
      ],
      "metadata": {
        "id": "tyTOzXTVblul"
      },
      "execution_count": null,
      "outputs": []
    },
    {
      "cell_type": "code",
      "source": [
        "grupos = [df[df['Grupo recruitment'] == grupo]['dias_total'] for grupo in df['Grupo recruitment'].unique()]\n"
      ],
      "metadata": {
        "id": "D5mKvP0Dblsf"
      },
      "execution_count": null,
      "outputs": []
    },
    {
      "cell_type": "code",
      "source": [],
      "metadata": {
        "id": "uYg5vK-zblqL"
      },
      "execution_count": null,
      "outputs": []
    },
    {
      "cell_type": "code",
      "source": [
        "y_grafica = 'Manager'"
      ],
      "metadata": {
        "id": "N00dC7oZZEoy"
      },
      "execution_count": null,
      "outputs": []
    },
    {
      "cell_type": "code",
      "source": [
        "# creating boxplot\n",
        "sns.boxplot(y=y_grafica, x='dias_total', data=df)\n",
        "  \n",
        "# adding data points\n",
        "sns.stripplot(y= y_grafica, x='dias_total', data=df)\n",
        "# display plot\n",
        "plt.show()"
      ],
      "metadata": {
        "id": "NhpSDCt0XBPm"
      },
      "execution_count": null,
      "outputs": []
    },
    {
      "cell_type": "code",
      "source": [],
      "metadata": {
        "id": "qG659S5nb6jb"
      },
      "execution_count": null,
      "outputs": []
    },
    {
      "cell_type": "code",
      "source": [],
      "metadata": {
        "id": "POsZ0RPDb6hJ"
      },
      "execution_count": null,
      "outputs": []
    },
    {
      "cell_type": "code",
      "source": [],
      "metadata": {
        "id": "IteiFO8_b6UT"
      },
      "execution_count": null,
      "outputs": []
    },
    {
      "cell_type": "code",
      "source": [
        "import pandas as pd\n",
        "from scipy.stats import f_oneway\n",
        "\n",
        "# Crea un dataframe con una variable categórica y una variable numérica\n",
        "df = pd.DataFrame({'categoria': ['A', 'B', 'C', 'A', 'B', 'C'],\n",
        "                   'numerica': [10, 20, 30, 15, 25, 35]})\n",
        "\n",
        "# Agrupa los datos por la variable categórica\n",
        "grupos = [df[df['categoria'] == categoria]['numerica'] for categoria in df['categoria'].unique()]\n",
        "\n",
        "# Realiza el análisis de varianza\n",
        "f, p = f_oneway(*grupos)\n",
        "print('F-value:', f)\n",
        "print('p-value:', p)\n"
      ],
      "metadata": {
        "id": "Htb3nWz3XiMb"
      },
      "execution_count": null,
      "outputs": []
    },
    {
      "cell_type": "code",
      "source": [],
      "metadata": {
        "id": "PNVn1oBKXiKX"
      },
      "execution_count": null,
      "outputs": []
    },
    {
      "cell_type": "code",
      "source": [],
      "metadata": {
        "id": "C6K2h1gGXiIF"
      },
      "execution_count": null,
      "outputs": []
    },
    {
      "cell_type": "code",
      "source": [],
      "metadata": {
        "id": "Z56WhVtpXeR_"
      },
      "execution_count": null,
      "outputs": []
    },
    {
      "cell_type": "code",
      "source": [],
      "metadata": {
        "id": "O289w526XePk"
      },
      "execution_count": null,
      "outputs": []
    },
    {
      "cell_type": "code",
      "source": [],
      "metadata": {
        "id": "sQKFquwYXBF6"
      },
      "execution_count": null,
      "outputs": []
    },
    {
      "cell_type": "code",
      "source": [],
      "metadata": {
        "id": "H26ognZXXBDG"
      },
      "execution_count": null,
      "outputs": []
    },
    {
      "cell_type": "code",
      "source": [
        "type(df.dias_total[0])"
      ],
      "metadata": {
        "id": "raF0xuwxVUvF"
      },
      "execution_count": null,
      "outputs": []
    },
    {
      "cell_type": "code",
      "source": [
        "df.info()"
      ],
      "metadata": {
        "id": "FsXHyzmGITJB"
      },
      "execution_count": null,
      "outputs": []
    },
    {
      "cell_type": "code",
      "source": [],
      "metadata": {
        "id": "nm23L3UuITGt"
      },
      "execution_count": null,
      "outputs": []
    },
    {
      "cell_type": "code",
      "source": [
        "rng = np.arange(50)\n",
        "rnd = np.random.randint(0, 10, size=(3, rng.size))\n",
        "yrs = 1950 + rng\n",
        "\n",
        "fig, ax = plt.subplots(figsize=(10, 5))\n",
        "ax.stackplot(yrs, rng + rnd, labels=['Eastasia', 'Eurasia', 'Oceania'])\n",
        "ax.set_title('Combined debt growth over time')\n",
        "ax.legend(loc='upper left')\n",
        "ax.set_ylabel('Total debt')\n",
        "ax.set_xlim(xmin=1920, xmax=2010)\n",
        "fig.tight_layout()"
      ],
      "metadata": {
        "id": "3h0Djop0Ju3e"
      },
      "execution_count": null,
      "outputs": []
    },
    {
      "cell_type": "code",
      "source": [
        "fig_01, ax_01 = plt.subplots(figsize=(10, 5))\n",
        "\n",
        "sns.countplot(data=df, y=\"Manager\",  order=df.Manager.value_counts().sort_values(ascending=False).index, color=sns.color_palette(\"Set1\")[1], ax=ax_01)\n",
        "\n",
        "\n",
        "\n",
        "ax_01.set_title(\"Número de observaciones por día\")\n",
        "ax_01.set_xlabel(\"Día\")\n",
        "ax_01.set_ylabel(\"Número de observaciones\")\n",
        "\n",
        "plt.show()"
      ],
      "metadata": {
        "id": "xWUyUNJUJu1a"
      },
      "execution_count": null,
      "outputs": []
    },
    {
      "cell_type": "code",
      "source": [
        "fig, axes = plt.subplots(nrows=2, ncols=2, figsize=(10, 10))\n",
        "\n",
        "\n",
        "\n",
        "\n",
        "\n"
      ],
      "metadata": {
        "id": "wRuVPQa5Juwx"
      },
      "execution_count": null,
      "outputs": []
    },
    {
      "cell_type": "code",
      "source": [
        "import seaborn as sns\n",
        "import matplotlib.pyplot as plt\n",
        "\n",
        "# Cargar un conjunto de datos de ejemplo\n",
        "tips = sns.load_dataset(\"tips\")\n",
        "\n",
        "# Crear una figura y un conjunto de subplots de 2x2\n",
        "fig, axes = plt.subplots(nrows=2, ncols=2, figsize=(10, 10))\n",
        "\n",
        "# Crear un countplot en cada subplot\n",
        "sns.countplot(x=\"day\", data=tips, ax=axes[0, 0])\n",
        "sns.countplot(x=\"time\", data=tips, ax=axes[0, 1])\n",
        "sns.countplot(x=\"sex\", data=tips, ax=axes[1, 0])\n",
        "sns.countplot(x=\"smoker\", data=tips, ax=axes[1, 1])\n",
        "\n",
        "# Ajustar los títulos y etiquetas de los ejes en cada subplot\n",
        "axes[0, 0].set_title(\"Countplot de días\")\n",
        "axes[0, 1].set_title(\"Countplot de tiempo\")\n",
        "axes[1, 0].set_title(\"Countplot de género\")\n",
        "axes[1, 1].set_title(\"Countplot de fumadores\")\n",
        "\n",
        "axes[0, 0].set_xlabel(\"Día\")\n",
        "axes[0, 1].set_xlabel(\"Tiempo\")\n",
        "axes[1, 0].set_xlabel(\"Género\")\n",
        "axes[1, 1].set_xlabel(\"Fumador\")\n",
        "\n",
        "axes[0, 0].set_ylabel(\"Número de observaciones\")\n",
        "axes[0, 1].set_ylabel(\"Número de observaciones\")\n",
        "axes[1, 0].set_ylabel(\"Número de observaciones\")\n",
        "axes[1, 1].set_ylabel(\"Número de observaciones\")\n",
        "\n",
        "# Ajustar el espaciado entre subplots\n",
        "plt.subplots_adjust(wspace=0.3, hspace=0.3)\n",
        "\n",
        "# Mostrar el gráfico\n",
        "plt.show()\n"
      ],
      "metadata": {
        "id": "4MiAw3IrITEG"
      },
      "execution_count": null,
      "outputs": []
    },
    {
      "cell_type": "code",
      "source": [],
      "metadata": {
        "id": "hUJ5kRp4ITBW"
      },
      "execution_count": null,
      "outputs": []
    },
    {
      "cell_type": "code",
      "source": [
        "import seaborn as sns\n",
        "import matplotlib.pyplot as plt\n",
        "\n",
        "# load example dataset\n",
        "tips = sns.load_dataset(\"tips\")\n",
        "\n",
        "# create a countplot with normalization\n",
        "sns.countplot(data=tips, x=\"day\", hue=\"sex\", normed=True)\n",
        "\n",
        "# set title and labels\n",
        "plt.title(\"Normalized Countplot of Tips Dataset\")\n",
        "plt.xlabel(\"Day of the Week\")\n",
        "plt.ylabel\n"
      ],
      "metadata": {
        "id": "8N8fnZ8WIS_A"
      },
      "execution_count": null,
      "outputs": []
    },
    {
      "cell_type": "code",
      "source": [
        "import seaborn as sns\n",
        "import matplotlib.pyplot as plt\n",
        "\n",
        "# load example dataset\n",
        "tips = sns.load_dataset(\"tips\")\n",
        "\n",
        "# create a countplot with normalization\n",
        "sns.countplot(data=tips, x=\"day\", hue=\"sex\", scale=\"normalize\")\n",
        "\n",
        "# set title and labels\n",
        "plt.title(\"Normalized Countplot of Tips Dataset\")\n",
        "plt.xlabel(\"Day of the Week\")\n",
        "plt.ylabel(\"Proportion\")\n",
        "\n",
        "# show the plot\n",
        "plt.show()\n"
      ],
      "metadata": {
        "id": "FfnZm2c_IS80"
      },
      "execution_count": null,
      "outputs": []
    },
    {
      "cell_type": "code",
      "source": [
        "import matplotlib.pyplot as plt\n",
        "import pandas as pd\n",
        "import numpy as np\n",
        "import seaborn as sns\n",
        "\n",
        "N = 250\n",
        "df_x_1 = pd.DataFrame({'concern_virus': np.random.choice(['a', 'b', 'c', 'd', 'e'], N),\n",
        "                       'age': np.random.choice(['younger', 'older'], N)})\n",
        "plt.figure(figsize=(7, 5))\n",
        "ax = sns.countplot(data=df_x_1, x='concern_virus', order=['a', 'b', 'c', 'd', 'e'],\n",
        "                   hue='age', hue_order=['younger', 'older'],\n",
        "                   palette=['chartreuse', 'darkviolet'])\n",
        "plt.xticks(size=12)\n",
        "plt.xlabel('Level of Concern', size=14)\n",
        "plt.yticks(size=12)\n",
        "plt.ylabel('Number of People', size=12)\n",
        "plt.title(\"Older and Younger People's Concern over the Virus\", size=16)\n",
        "ax.set_xticklabels(ax.get_xticklabels(), rotation=40, ha=\"right\")\n",
        "\n",
        "total = len(df_x_1)\n",
        "for p in ax.patches:\n",
        "    percentage = f'{100 * p.get_height() / total:.1f}%\\n'\n",
        "    x = p.get_x() + p.get_width() / 2\n",
        "    y = p.get_height()\n",
        "    ax.annotate(percentage, (x, y), ha='center', va='center')\n",
        "plt.tight_layout()\n",
        "plt.show()"
      ],
      "metadata": {
        "id": "4QWrArkdIS6V"
      },
      "execution_count": null,
      "outputs": []
    },
    {
      "cell_type": "code",
      "source": [
        "import pandas as pd\n",
        "import seaborn as sns\n",
        "import matplotlib.pyplot as plt\n",
        "\n",
        "# Crear DataFrame con datos de ejemplo\n",
        "df = pd.DataFrame({\n",
        "    'fecha_renuncia': pd.date_range(start='2022-01-01', end='2022-12-01', freq='MS')\n",
        "})\n",
        "\n",
        "# Agregar columna con cantidad de renuncias aleatorias en cada fecha\n",
        "import random\n",
        "df['renuncias'] = [random.randint(5, 20) for _ in range(len(df))]\n",
        "\n",
        "# Convertir la columna de fechas en el índice del DataFrame\n",
        "df = df.set_index('fecha_renuncia')\n",
        "\n",
        "# Agrupar los datos por mes y obtener la suma de renuncias en cada mes\n",
        "renuncias_mes = df.resample('M').sum()\n",
        "\n",
        "# Crear gráfica de línea de la tendencia mensual de renuncias\n",
        "sns.lineplot(x=renuncias_mes.index, y='renuncias', data=renuncias_mes)\n",
        "\n",
        "# Mostrar el gráfico\n",
        "plt.show()\n"
      ],
      "metadata": {
        "id": "Kg0eKTtvaDBU"
      },
      "execution_count": null,
      "outputs": []
    },
    {
      "cell_type": "code",
      "source": [
        "df = pd.DataFrame({\n",
        "    'fecha_renuncia': pd.date_range(start='2022-01-01', end='2022-12-01', freq='MS')\n",
        "})\n",
        "df"
      ],
      "metadata": {
        "id": "JewUOQZFHJZp"
      },
      "execution_count": null,
      "outputs": []
    },
    {
      "cell_type": "code",
      "source": [],
      "metadata": {
        "id": "s5tCo76jI0TG"
      },
      "execution_count": null,
      "outputs": []
    },
    {
      "cell_type": "code",
      "source": [
        "conteo_por_mes = df.groupby(pd.Grouper(key='fecha_renuncia', freq='M')).count()\n",
        "\n",
        "# Mostrar el conteo por mes\n",
        "print(conteo_por_mes)"
      ],
      "metadata": {
        "id": "Dawo1k2XIEDh"
      },
      "execution_count": null,
      "outputs": []
    },
    {
      "cell_type": "code",
      "source": [
        "fechas = pd.date_range(start='2022-01-01', end='2022-05-31', freq='D')\n",
        "fechas = pd.concat([fechas[:10], fechas[20:25], fechas[20:25], fechas[28:]])\n",
        "\n",
        "df = pd.DataFrame({'fecha': fechas})\n",
        "df"
      ],
      "metadata": {
        "id": "aL0MvohvIEBF"
      },
      "execution_count": null,
      "outputs": []
    },
    {
      "cell_type": "code",
      "source": [
        "import pandas as pd\n",
        "\n",
        "# Crear DataFrame con datos de ejemplo\n",
        "df = pd.DataFrame({\n",
        "    'fecha': pd.date_range(start='2022-01-01', end='2022-12-31', freq='D')\n",
        "})\n",
        "\n",
        "# Agrupar los datos por mes y contar cuántos datos hay en cada mes\n",
        "conteo_por_mes = df.groupby(pd.Grouper(key='fecha', freq='M')).count()\n",
        "\n",
        "# Mostrar el conteo por mes\n",
        "print(conteo_por_mes)\n"
      ],
      "metadata": {
        "id": "QpYAFTmFHoBM"
      },
      "execution_count": null,
      "outputs": []
    },
    {
      "cell_type": "code",
      "source": [],
      "metadata": {
        "id": "_zq-JIrXHn-H"
      },
      "execution_count": null,
      "outputs": []
    },
    {
      "cell_type": "code",
      "source": [],
      "metadata": {
        "id": "2-c26EdkHn7d"
      },
      "execution_count": null,
      "outputs": []
    },
    {
      "cell_type": "code",
      "source": [
        "df['renuncias'] = [random.randint(5, 20) for _ in range(len(df))]\n",
        "df"
      ],
      "metadata": {
        "id": "7B_vmjfpHJXy"
      },
      "execution_count": null,
      "outputs": []
    },
    {
      "cell_type": "code",
      "source": [],
      "metadata": {
        "id": "dWNDQROpHJV4"
      },
      "execution_count": null,
      "outputs": []
    },
    {
      "cell_type": "code",
      "source": [],
      "metadata": {
        "id": "B0L1ma4jHJTq"
      },
      "execution_count": null,
      "outputs": []
    },
    {
      "cell_type": "code",
      "source": [],
      "metadata": {
        "id": "B8yEKocgHJPa"
      },
      "execution_count": null,
      "outputs": []
    }
  ]
}
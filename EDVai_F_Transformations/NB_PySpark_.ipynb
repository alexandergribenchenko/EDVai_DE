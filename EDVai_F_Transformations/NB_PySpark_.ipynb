{
  "nbformat": 4,
  "nbformat_minor": 0,
  "metadata": {
    "colab": {
      "provenance": [],
      "toc_visible": true,
      "include_colab_link": true
    },
    "kernelspec": {
      "name": "python3",
      "display_name": "Python 3"
    },
    "language_info": {
      "name": "python"
    }
  },
  "cells": [
    {
      "cell_type": "markdown",
      "metadata": {
        "id": "view-in-github",
        "colab_type": "text"
      },
      "source": [
        "<a href=\"https://colab.research.google.com/github/alexandergribenchenko/EDVai_DE/blob/main/EDVai_F_Transformations/NB_PySpark_.ipynb\" target=\"_parent\"><img src=\"https://colab.research.google.com/assets/colab-badge.svg\" alt=\"Open In Colab\"/></a>"
      ]
    },
    {
      "cell_type": "markdown",
      "source": [
        "# A. Instalación y carga de Pyspark"
      ],
      "metadata": {
        "id": "27LsySb9um_2"
      }
    },
    {
      "cell_type": "code",
      "source": [
        "!pip install pyspark"
      ],
      "metadata": {
        "colab": {
          "base_uri": "https://localhost:8080/"
        },
        "id": "f6DzPJ41tGSw",
        "outputId": "6dafbd9d-08e3-4bba-e5e6-74c0d62984a0"
      },
      "execution_count": 2,
      "outputs": [
        {
          "output_type": "stream",
          "name": "stdout",
          "text": [
            "Looking in indexes: https://pypi.org/simple, https://us-python.pkg.dev/colab-wheels/public/simple/\n",
            "Requirement already satisfied: pyspark in /usr/local/lib/python3.9/dist-packages (3.3.2)\n",
            "Requirement already satisfied: py4j==0.10.9.5 in /usr/local/lib/python3.9/dist-packages (from pyspark) (0.10.9.5)\n"
          ]
        }
      ]
    },
    {
      "cell_type": "code",
      "source": [
        "from pyspark.sql import SparkSession"
      ],
      "metadata": {
        "id": "UfiaY_GxuGcJ"
      },
      "execution_count": 3,
      "outputs": []
    },
    {
      "cell_type": "code",
      "source": [
        "spark = SparkSession.builder.appName('test_pyspark').getOrCreate()"
      ],
      "metadata": {
        "id": "vbDN_AJuuGZr"
      },
      "execution_count": 4,
      "outputs": []
    },
    {
      "cell_type": "code",
      "source": [
        "from pyspark.sql.functions import sum, col, desc, asc, count, countDistinct, round, max, min, avg, to_date, collect_set"
      ],
      "metadata": {
        "id": "1hdiHGrfP5tJ"
      },
      "execution_count": 55,
      "outputs": []
    },
    {
      "cell_type": "markdown",
      "source": [
        "# Librerías necesarias"
      ],
      "metadata": {
        "id": "1tz0BiLuuwJ8"
      }
    },
    {
      "cell_type": "code",
      "source": [
        "dfs = spark.read.parquet('yellow_tripdata_2021-01.parquet')"
      ],
      "metadata": {
        "id": "8x-g-MLUNekw"
      },
      "execution_count": 37,
      "outputs": []
    },
    {
      "cell_type": "code",
      "source": [
        "dfs.show()"
      ],
      "metadata": {
        "id": "jLeWb_KWNyKF",
        "outputId": "4a16b6a5-000b-4402-fb4c-fa45a62b5b41",
        "colab": {
          "base_uri": "https://localhost:8080/"
        }
      },
      "execution_count": 13,
      "outputs": [
        {
          "output_type": "stream",
          "name": "stdout",
          "text": [
            "+--------+--------------------+---------------------+---------------+-------------+----------+------------------+------------+------------+------------+-----------+-----+-------+----------+------------+---------------------+------------+--------------------+-----------+\n",
            "|VendorID|tpep_pickup_datetime|tpep_dropoff_datetime|passenger_count|trip_distance|RatecodeID|store_and_fwd_flag|PULocationID|DOLocationID|payment_type|fare_amount|extra|mta_tax|tip_amount|tolls_amount|improvement_surcharge|total_amount|congestion_surcharge|airport_fee|\n",
            "+--------+--------------------+---------------------+---------------+-------------+----------+------------------+------------+------------+------------+-----------+-----+-------+----------+------------+---------------------+------------+--------------------+-----------+\n",
            "|       1| 2021-01-01 00:30:10|  2021-01-01 00:36:12|            1.0|          2.1|       1.0|                 N|         142|          43|           2|        8.0|  3.0|    0.5|       0.0|         0.0|                  0.3|        11.8|                 2.5|       null|\n",
            "|       1| 2021-01-01 00:51:20|  2021-01-01 00:52:19|            1.0|          0.2|       1.0|                 N|         238|         151|           2|        3.0|  0.5|    0.5|       0.0|         0.0|                  0.3|         4.3|                 0.0|       null|\n",
            "|       1| 2021-01-01 00:43:30|  2021-01-01 01:11:06|            1.0|         14.7|       1.0|                 N|         132|         165|           1|       42.0|  0.5|    0.5|      8.65|         0.0|                  0.3|       51.95|                 0.0|       null|\n",
            "|       1| 2021-01-01 00:15:48|  2021-01-01 00:31:01|            0.0|         10.6|       1.0|                 N|         138|         132|           1|       29.0|  0.5|    0.5|      6.05|         0.0|                  0.3|       36.35|                 0.0|       null|\n",
            "|       2| 2021-01-01 00:31:49|  2021-01-01 00:48:21|            1.0|         4.94|       1.0|                 N|          68|          33|           1|       16.5|  0.5|    0.5|      4.06|         0.0|                  0.3|       24.36|                 2.5|       null|\n",
            "|       1| 2021-01-01 00:16:29|  2021-01-01 00:24:30|            1.0|          1.6|       1.0|                 N|         224|          68|           1|        8.0|  3.0|    0.5|      2.35|         0.0|                  0.3|       14.15|                 2.5|       null|\n",
            "|       1| 2021-01-01 00:00:28|  2021-01-01 00:17:28|            1.0|          4.1|       1.0|                 N|          95|         157|           2|       16.0|  0.5|    0.5|       0.0|         0.0|                  0.3|        17.3|                 0.0|       null|\n",
            "|       1| 2021-01-01 00:12:29|  2021-01-01 00:30:34|            1.0|          5.7|       1.0|                 N|          90|          40|           2|       18.0|  3.0|    0.5|       0.0|         0.0|                  0.3|        21.8|                 2.5|       null|\n",
            "|       1| 2021-01-01 00:39:16|  2021-01-01 01:00:13|            1.0|          9.1|       1.0|                 N|          97|         129|           4|       27.5|  0.5|    0.5|       0.0|         0.0|                  0.3|        28.8|                 0.0|       null|\n",
            "|       1| 2021-01-01 00:26:12|  2021-01-01 00:39:46|            2.0|          2.7|       1.0|                 N|         263|         142|           1|       12.0|  3.0|    0.5|      3.15|         0.0|                  0.3|       18.95|                 2.5|       null|\n",
            "|       2| 2021-01-01 00:15:52|  2021-01-01 00:38:07|            3.0|         6.11|       1.0|                 N|         164|         255|           1|       20.5|  0.5|    0.5|       0.0|         0.0|                  0.3|        24.3|                 2.5|       null|\n",
            "|       2| 2021-01-01 00:46:36|  2021-01-01 00:53:45|            2.0|         1.21|       1.0|                 N|         255|          80|           1|        7.0|  0.5|    0.5|      2.49|         0.0|                  0.3|       10.79|                 0.0|       null|\n",
            "|       1| 2021-01-01 00:10:46|  2021-01-01 00:32:58|            2.0|          7.4|       1.0|                 N|         138|         166|           2|       24.5|  2.5|    0.5|       0.0|        6.12|                  0.3|       33.92|                 0.0|       null|\n",
            "|       2| 2021-01-01 00:31:06|  2021-01-01 00:38:52|            5.0|          1.7|       1.0|                 N|         142|          50|           1|        8.0|  0.5|    0.5|      2.36|         0.0|                  0.3|       14.16|                 2.5|       null|\n",
            "|       2| 2021-01-01 00:42:11|  2021-01-01 00:44:24|            5.0|         0.81|       1.0|                 N|          50|         142|           2|        4.5|  0.5|    0.5|       0.0|         0.0|                  0.3|         8.3|                 2.5|       null|\n",
            "|       2| 2021-01-01 00:17:48|  2021-01-01 00:21:55|            1.0|         1.01|       1.0|                 N|         236|         237|           1|        5.5|  0.5|    0.5|       1.0|         0.0|                  0.3|        10.3|                 2.5|       null|\n",
            "|       2| 2021-01-01 00:33:38|  2021-01-01 00:38:37|            1.0|         0.73|       1.0|                 N|         142|         239|           1|        5.5|  0.5|    0.5|      2.79|         0.0|                  0.3|       12.09|                 2.5|       null|\n",
            "|       2| 2021-01-01 00:47:56|  2021-01-01 00:52:53|            1.0|         1.17|       1.0|                 N|         238|         166|           1|        6.5|  0.5|    0.5|      2.06|         0.0|                  0.3|       12.36|                 2.5|       null|\n",
            "|       2| 2021-01-01 00:04:21|  2021-01-01 00:07:58|            1.0|         0.78|       1.0|                 N|         239|         238|           1|        4.5|  0.5|    0.5|      1.66|         0.0|                  0.3|        9.96|                 2.5|       null|\n",
            "|       2| 2021-01-01 00:18:36|  2021-01-01 00:27:10|            2.0|         1.66|       1.0|                 N|         151|         142|           2|        8.5|  0.5|    0.5|       0.0|         0.0|                  0.3|        12.3|                 2.5|       null|\n",
            "+--------+--------------------+---------------------+---------------+-------------+----------+------------------+------------+------------+------------+-----------+-----+-------+----------+------------+---------------------+------------+--------------------+-----------+\n",
            "only showing top 20 rows\n",
            "\n"
          ]
        }
      ]
    },
    {
      "cell_type": "code",
      "source": [
        "dfs.printSchema()"
      ],
      "metadata": {
        "id": "fMpaumVPL_R6",
        "outputId": "52ffb26b-def2-466c-f318-5f99a33a561e",
        "colab": {
          "base_uri": "https://localhost:8080/"
        }
      },
      "execution_count": 15,
      "outputs": [
        {
          "output_type": "stream",
          "name": "stdout",
          "text": [
            "root\n",
            " |-- VendorID: long (nullable = true)\n",
            " |-- tpep_pickup_datetime: timestamp (nullable = true)\n",
            " |-- tpep_dropoff_datetime: timestamp (nullable = true)\n",
            " |-- passenger_count: double (nullable = true)\n",
            " |-- trip_distance: double (nullable = true)\n",
            " |-- RatecodeID: double (nullable = true)\n",
            " |-- store_and_fwd_flag: string (nullable = true)\n",
            " |-- PULocationID: long (nullable = true)\n",
            " |-- DOLocationID: long (nullable = true)\n",
            " |-- payment_type: long (nullable = true)\n",
            " |-- fare_amount: double (nullable = true)\n",
            " |-- extra: double (nullable = true)\n",
            " |-- mta_tax: double (nullable = true)\n",
            " |-- tip_amount: double (nullable = true)\n",
            " |-- tolls_amount: double (nullable = true)\n",
            " |-- improvement_surcharge: double (nullable = true)\n",
            " |-- total_amount: double (nullable = true)\n",
            " |-- congestion_surcharge: double (nullable = true)\n",
            " |-- airport_fee: double (nullable = true)\n",
            "\n"
          ]
        }
      ]
    },
    {
      "cell_type": "markdown",
      "source": [
        "## 03.01.\n",
        "Mostrar los resultados siguientes:\n",
        "- a. VendorId Integer\n",
        "- b. Tpep_pickup_datetime date\n",
        "- c. Total_amount double\n",
        "- d. Donde el total (total_amount sea menor a 10 dólares)"
      ],
      "metadata": {
        "id": "Ji5nA80pV2-G"
      }
    },
    {
      "cell_type": "code",
      "source": [
        "dfs.select('VendorID','tpep_pickup_datetime', 'total_amount').\\\n",
        "    filter(col('total_amount') < 10).\\\n",
        "    show()"
      ],
      "metadata": {
        "id": "YFIDbQ7jOIQX",
        "outputId": "c86d5017-3c05-4d7f-cda0-0b11d25d5350",
        "colab": {
          "base_uri": "https://localhost:8080/"
        }
      },
      "execution_count": 21,
      "outputs": [
        {
          "output_type": "stream",
          "name": "stdout",
          "text": [
            "+--------+--------------------+------------+\n",
            "|VendorID|tpep_pickup_datetime|total_amount|\n",
            "+--------+--------------------+------------+\n",
            "|       1| 2021-01-01 00:51:20|         4.3|\n",
            "|       2| 2021-01-01 00:42:11|         8.3|\n",
            "|       2| 2021-01-01 00:04:21|        9.96|\n",
            "|       2| 2021-01-01 00:43:41|         9.3|\n",
            "|       2| 2021-01-01 00:36:08|         5.8|\n",
            "|       1| 2021-01-01 00:03:13|         0.0|\n",
            "|       1| 2021-01-01 00:30:32|         9.3|\n",
            "|       2| 2021-01-01 00:16:19|         9.8|\n",
            "|       2| 2021-01-01 00:57:26|         8.8|\n",
            "|       2| 2021-01-01 00:33:33|        9.96|\n",
            "|       2| 2021-01-01 00:39:08|         9.3|\n",
            "|       2| 2021-01-01 00:45:29|         7.8|\n",
            "|       1| 2021-01-01 00:43:00|        9.55|\n",
            "|       2| 2021-01-01 00:52:28|         4.8|\n",
            "|       1| 2021-01-01 00:39:50|         9.8|\n",
            "|       2| 2021-01-01 00:17:39|         8.8|\n",
            "|       1| 2021-01-01 00:49:10|         7.8|\n",
            "|       2| 2021-01-01 00:47:51|        9.36|\n",
            "|       2| 2021-01-01 00:11:53|         8.3|\n",
            "|       1| 2021-01-01 00:34:38|         9.3|\n",
            "+--------+--------------------+------------+\n",
            "only showing top 20 rows\n",
            "\n"
          ]
        }
      ]
    },
    {
      "cell_type": "markdown",
      "source": [
        "## 03.02.\n",
        "Mostrar los 10 días que más se recaudó dinero (tpep_pickup_datetime, total amount)"
      ],
      "metadata": {
        "id": "-_8btPTyWHiq"
      }
    },
    {
      "cell_type": "code",
      "source": [
        "dfs.withColumn('tpep_pickup_date', to_date('tpep_pickup_datetime', 'yyyy-MM-dd HH:mm:ss')).\\\n",
        "    groupBy('tpep_pickup_date').\\\n",
        "    agg(sum('total_amount').alias('sum_total_amount')).\\\n",
        "    orderBy(desc('sum_total_amount')).\\\n",
        "    limit(10).\\\n",
        "    show()"
      ],
      "metadata": {
        "id": "7DO97i_PRziB",
        "outputId": "b17a9828-f5a1-4edf-9604-28edce3b621c",
        "colab": {
          "base_uri": "https://localhost:8080/"
        }
      },
      "execution_count": 39,
      "outputs": [
        {
          "output_type": "stream",
          "name": "stdout",
          "text": [
            "+----------------+-----------------+\n",
            "|tpep_pickup_date| sum_total_amount|\n",
            "+----------------+-----------------+\n",
            "|      2021-01-28|959114.4900002397|\n",
            "|      2021-01-22|933129.1800002002|\n",
            "|      2021-01-29|929731.0600002115|\n",
            "|      2021-01-21| 929307.270000204|\n",
            "|      2021-01-14|925183.8200001806|\n",
            "|      2021-01-15|924665.2000001943|\n",
            "|      2021-01-27|894418.6400001668|\n",
            "|      2021-01-19|889278.4600001582|\n",
            "|      2021-01-07|886008.2300001475|\n",
            "|      2021-01-13|873117.0800001248|\n",
            "+----------------+-----------------+\n",
            "\n"
          ]
        }
      ]
    },
    {
      "cell_type": "markdown",
      "source": [
        "## 03.03.\n",
        "Mostrar los 10 viajes que menos dinero recaudó en viajes mayores a 10 millas"
      ],
      "metadata": {
        "id": "cJjxGhA1VI-j"
      }
    },
    {
      "cell_type": "code",
      "source": [
        "dfs.select('trip_distance','total_amount').\\\n",
        "    filter(col('trip_distance') > 10).\\\n",
        "    orderBy(asc('total_amount')).\\\n",
        "    show()"
      ],
      "metadata": {
        "id": "NfQvuA2XRzeE",
        "outputId": "626798a5-60ee-46ed-affb-1c7b5d69890f",
        "colab": {
          "base_uri": "https://localhost:8080/"
        }
      },
      "execution_count": 41,
      "outputs": [
        {
          "output_type": "stream",
          "name": "stdout",
          "text": [
            "+-------------+------------+\n",
            "|trip_distance|total_amount|\n",
            "+-------------+------------+\n",
            "|        12.68|      -252.3|\n",
            "|        34.35|     -176.42|\n",
            "|        14.75|      -152.8|\n",
            "|        33.96|     -127.92|\n",
            "|         29.1|      -119.3|\n",
            "|        26.94|      -111.3|\n",
            "|        20.08|      -107.8|\n",
            "|        19.55|      -102.8|\n",
            "|        19.16|      -90.55|\n",
            "|        25.83|      -88.54|\n",
            "|        32.85|       -85.3|\n",
            "|        14.46|      -84.55|\n",
            "|        23.63|       -80.8|\n",
            "|         17.8|      -78.55|\n",
            "|        24.44|      -78.04|\n",
            "|        25.31|      -77.92|\n",
            "|        15.79|      -77.05|\n",
            "|        33.07|      -76.42|\n",
            "|        15.14|      -75.55|\n",
            "|        23.74|       -73.8|\n",
            "+-------------+------------+\n",
            "only showing top 20 rows\n",
            "\n"
          ]
        }
      ]
    },
    {
      "cell_type": "markdown",
      "source": [
        "## 03.04.\n",
        "Mostrar los viajes de más de dos pasajeros que hayan pagado con tarjeta de\n",
        "crédito (mostrar solo las columnas trip_distance y tpep_pickup_datetime)"
      ],
      "metadata": {
        "id": "SM8LT0XSWfuO"
      }
    },
    {
      "cell_type": "markdown",
      "source": [
        "Sabemos que en `Payment_type` tenemos la equivalencia `1= Credit card`."
      ],
      "metadata": {
        "id": "kmcTZI5gcFdO"
      }
    },
    {
      "cell_type": "code",
      "source": [
        "dfs.select('trip_distance','total_amount', 'payment_type', 'passenger_count').\\\n",
        "    filter((col('payment_type') == 1)&(col('passenger_count') > 2)).\\\n",
        "    show()"
      ],
      "metadata": {
        "id": "YGtTjtOhURXQ",
        "outputId": "d4570088-20ee-404b-a176-3b11de67f7dc",
        "colab": {
          "base_uri": "https://localhost:8080/"
        }
      },
      "execution_count": 49,
      "outputs": [
        {
          "output_type": "stream",
          "name": "stdout",
          "text": [
            "+-------------+------------+------------+---------------+\n",
            "|trip_distance|total_amount|payment_type|passenger_count|\n",
            "+-------------+------------+------------+---------------+\n",
            "|         6.11|        24.3|           1|            3.0|\n",
            "|          1.7|       14.16|           1|            5.0|\n",
            "|         3.15|        18.3|           1|            4.0|\n",
            "|        10.74|        40.3|           1|            3.0|\n",
            "|         2.01|        14.8|           1|            5.0|\n",
            "|         2.85|       18.59|           1|            3.0|\n",
            "|         1.68|       13.56|           1|            3.0|\n",
            "|         0.77|        9.96|           1|            3.0|\n",
            "|          0.4|         7.8|           1|            3.0|\n",
            "|        16.54|       66.36|           1|            3.0|\n",
            "|          2.3|       15.95|           1|            3.0|\n",
            "|          2.5|        15.8|           1|            3.0|\n",
            "|         1.29|       11.76|           1|            3.0|\n",
            "|          1.3|       12.95|           1|            3.0|\n",
            "|          0.8|        10.8|           1|            3.0|\n",
            "|         1.49|       13.39|           1|            4.0|\n",
            "|         1.62|       12.96|           1|            4.0|\n",
            "|         5.04|        26.3|           1|            4.0|\n",
            "|          2.5|        15.8|           1|            3.0|\n",
            "|         3.13|       19.56|           1|            3.0|\n",
            "+-------------+------------+------------+---------------+\n",
            "only showing top 20 rows\n",
            "\n"
          ]
        }
      ]
    },
    {
      "cell_type": "markdown",
      "source": [
        "## 03.05.\n",
        "Mostrar los 7 viajes con mayor propina en distancias mayores a 10 millas (mostrar campos tpep_pickup_datetime, trip_distance, passenger_count, ip_amount)"
      ],
      "metadata": {
        "id": "YlhKiV7qYwsK"
      }
    },
    {
      "cell_type": "code",
      "source": [
        "dfs.select('trip_distance','tpep_pickup_datetime','passenger_count', 'tip_amount').\\\n",
        "    filter(col('trip_distance') > 10).\\\n",
        "    orderBy(desc('tip_amount')).\\\n",
        "    limit(7).\\\n",
        "    show()"
      ],
      "metadata": {
        "id": "pITusgHGYuwO",
        "outputId": "3633aad0-417e-444a-ac69-16f5a7e0bb96",
        "colab": {
          "base_uri": "https://localhost:8080/"
        }
      },
      "execution_count": 53,
      "outputs": [
        {
          "output_type": "stream",
          "name": "stdout",
          "text": [
            "+-------------+--------------------+---------------+----------+\n",
            "|trip_distance|tpep_pickup_datetime|passenger_count|tip_amount|\n",
            "+-------------+--------------------+---------------+----------+\n",
            "|        427.7| 2021-01-20 11:22:05|            1.0|   1140.44|\n",
            "|        267.7| 2021-01-03 11:36:52|            1.0|     369.4|\n",
            "|        326.1| 2021-01-12 12:57:36|            0.0|    192.61|\n",
            "|        260.5| 2021-01-19 11:38:47|            1.0|    149.03|\n",
            "|         11.1| 2021-01-31 23:48:50|            0.0|     100.0|\n",
            "|        14.86| 2021-01-01 15:26:43|            2.0|      99.0|\n",
            "|         13.0| 2021-01-18 15:50:24|            0.0|      90.0|\n",
            "+-------------+--------------------+---------------+----------+\n",
            "\n"
          ]
        }
      ]
    },
    {
      "cell_type": "markdown",
      "source": [
        "## 03.06.\n",
        "Mostrar para cada uno de los valores de RateCodeID, el monto total y el monto promedio. Excluir los viajes en donde RateCodeID es ‘Group Ride’."
      ],
      "metadata": {
        "id": "G_88A0S6aiwe"
      }
    },
    {
      "cell_type": "code",
      "source": [
        "RatecodeID_uniques = sorted(dfs.select(collect_set('RatecodeID')).first()[0])\n",
        "RatecodeID_uniques"
      ],
      "metadata": {
        "id": "pCXXLZRcYuuS",
        "outputId": "dae621bc-99d9-4120-a029-043247535e2a",
        "colab": {
          "base_uri": "https://localhost:8080/"
        }
      },
      "execution_count": 58,
      "outputs": [
        {
          "output_type": "execute_result",
          "data": {
            "text/plain": [
              "[1.0, 2.0, 3.0, 4.0, 5.0, 6.0, 99.0]"
            ]
          },
          "metadata": {},
          "execution_count": 58
        }
      ]
    },
    {
      "cell_type": "markdown",
      "source": [
        "Sabemos que en `RateCodeID` tenemos la equivalencia `6=Group ride`."
      ],
      "metadata": {
        "id": "k01y2823b81L"
      }
    },
    {
      "cell_type": "code",
      "source": [
        "dfs.filter(col('RatecodeID') != 6).\\\n",
        "    groupBy('RatecodeID').\\\n",
        "    agg(sum('total_amount').alias('sum_total_amount'), avg('total_amount').alias('avg_total_amount') ).\\\n",
        "    show()"
      ],
      "metadata": {
        "id": "HYLgn3pmc6f5",
        "outputId": "977f859f-12f0-428c-8dd9-995a0ebcf4e5",
        "colab": {
          "base_uri": "https://localhost:8080/"
        }
      },
      "execution_count": 60,
      "outputs": [
        {
          "output_type": "stream",
          "name": "stdout",
          "text": [
            "+----------+--------------------+------------------+\n",
            "|RatecodeID|    sum_total_amount|  avg_total_amount|\n",
            "+----------+--------------------+------------------+\n",
            "|       1.0|1.9496468430212937E7|15.606626116946773|\n",
            "|       4.0|   90039.93000000082| 74.90842762063296|\n",
            "|       3.0|   67363.26000000043| 78.69539719626219|\n",
            "|       2.0|   973635.4700000732| 65.52937609369182|\n",
            "|      99.0|  1748.0699999999997| 48.55749999999999|\n",
            "|       5.0|  255075.08999999086|48.939963545662096|\n",
            "+----------+--------------------+------------------+\n",
            "\n"
          ]
        }
      ]
    }
  ]
}
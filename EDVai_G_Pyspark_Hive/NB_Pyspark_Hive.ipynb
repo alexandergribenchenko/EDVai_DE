{
  "nbformat": 4,
  "nbformat_minor": 0,
  "metadata": {
    "colab": {
      "provenance": [],
      "toc_visible": true,
      "include_colab_link": true
    },
    "kernelspec": {
      "name": "python3",
      "display_name": "Python 3"
    },
    "language_info": {
      "name": "python"
    }
  },
  "cells": [
    {
      "cell_type": "markdown",
      "metadata": {
        "id": "view-in-github",
        "colab_type": "text"
      },
      "source": [
        "<a href=\"https://colab.research.google.com/github/alexandergribenchenko/EDVai_DE/blob/main/EDVai_G_Pyspark_Hive/NB_Pyspark_Hive.ipynb\" target=\"_parent\"><img src=\"https://colab.research.google.com/assets/colab-badge.svg\" alt=\"Open In Colab\"/></a>"
      ]
    },
    {
      "cell_type": "markdown",
      "source": [
        "# A. Instalación y carga de Pyspark"
      ],
      "metadata": {
        "id": "27LsySb9um_2"
      }
    },
    {
      "cell_type": "code",
      "source": [
        "!pip install pyspark"
      ],
      "metadata": {
        "colab": {
          "base_uri": "https://localhost:8080/"
        },
        "id": "f6DzPJ41tGSw",
        "outputId": "fe1b7f96-9b5a-4ed4-c678-1b303c2e5029"
      },
      "execution_count": 1,
      "outputs": [
        {
          "output_type": "stream",
          "name": "stdout",
          "text": [
            "Looking in indexes: https://pypi.org/simple, https://us-python.pkg.dev/colab-wheels/public/simple/\n",
            "Collecting pyspark\n",
            "  Downloading pyspark-3.3.2.tar.gz (281.4 MB)\n",
            "\u001b[2K     \u001b[90m━━━━━━━━━━━━━━━━━━━━━━━━━━━━━━━━━━━━━━━\u001b[0m \u001b[32m281.4/281.4 MB\u001b[0m \u001b[31m4.6 MB/s\u001b[0m eta \u001b[36m0:00:00\u001b[0m\n",
            "\u001b[?25h  Preparing metadata (setup.py) ... \u001b[?25l\u001b[?25hdone\n",
            "Collecting py4j==0.10.9.5\n",
            "  Downloading py4j-0.10.9.5-py2.py3-none-any.whl (199 kB)\n",
            "\u001b[2K     \u001b[90m━━━━━━━━━━━━━━━━━━━━━━━━━━━━━━━━━━━━━━\u001b[0m \u001b[32m199.7/199.7 kB\u001b[0m \u001b[31m20.8 MB/s\u001b[0m eta \u001b[36m0:00:00\u001b[0m\n",
            "\u001b[?25hBuilding wheels for collected packages: pyspark\n",
            "  Building wheel for pyspark (setup.py) ... \u001b[?25l\u001b[?25hdone\n",
            "  Created wheel for pyspark: filename=pyspark-3.3.2-py2.py3-none-any.whl size=281824028 sha256=a89f0d4e04d8ba987ffda4ba001b09c90dcab9a70e2187774fc4346325080c7c\n",
            "  Stored in directory: /root/.cache/pip/wheels/6c/e3/9b/0525ce8a69478916513509d43693511463c6468db0de237c86\n",
            "Successfully built pyspark\n",
            "Installing collected packages: py4j, pyspark\n",
            "  Attempting uninstall: py4j\n",
            "    Found existing installation: py4j 0.10.9.7\n",
            "    Uninstalling py4j-0.10.9.7:\n",
            "      Successfully uninstalled py4j-0.10.9.7\n",
            "Successfully installed py4j-0.10.9.5 pyspark-3.3.2\n"
          ]
        }
      ]
    },
    {
      "cell_type": "code",
      "source": [
        "from pyspark.sql import SparkSession"
      ],
      "metadata": {
        "id": "UfiaY_GxuGcJ"
      },
      "execution_count": 2,
      "outputs": []
    },
    {
      "cell_type": "code",
      "source": [
        "spark = SparkSession.builder.appName('test_pyspark').getOrCreate()"
      ],
      "metadata": {
        "id": "vbDN_AJuuGZr"
      },
      "execution_count": 3,
      "outputs": []
    },
    {
      "cell_type": "markdown",
      "source": [
        "# B. Funciones de pyspark necesarias para el ejercicio"
      ],
      "metadata": {
        "id": "HZrS6gLdfY7_"
      }
    },
    {
      "cell_type": "code",
      "source": [
        "from pyspark.sql.functions import sum, col, desc, asc, count, countDistinct, round, max, min, avg, to_date, collect_set, lit"
      ],
      "metadata": {
        "id": "1hdiHGrfP5tJ"
      },
      "execution_count": 36,
      "outputs": []
    },
    {
      "cell_type": "markdown",
      "source": [
        "# C. Importar el dataframe raw"
      ],
      "metadata": {
        "id": "v_bPZIGwfm_a"
      }
    },
    {
      "cell_type": "markdown",
      "source": [
        "### ---> Dataframe de Spark"
      ],
      "metadata": {
        "id": "E5G1Twq7pqGV"
      }
    },
    {
      "cell_type": "code",
      "source": [
        "dfs = spark.read.parquet('yellow_tripdata_2021-01.parquet')"
      ],
      "metadata": {
        "id": "8x-g-MLUNekw"
      },
      "execution_count": 5,
      "outputs": []
    },
    {
      "cell_type": "code",
      "source": [
        "dfs.show()"
      ],
      "metadata": {
        "colab": {
          "base_uri": "https://localhost:8080/"
        },
        "id": "jLeWb_KWNyKF",
        "outputId": "4471eb7b-95c3-486d-df95-b51d0111c06c"
      },
      "execution_count": 6,
      "outputs": [
        {
          "output_type": "stream",
          "name": "stdout",
          "text": [
            "+--------+--------------------+---------------------+---------------+-------------+----------+------------------+------------+------------+------------+-----------+-----+-------+----------+------------+---------------------+------------+--------------------+-----------+\n",
            "|VendorID|tpep_pickup_datetime|tpep_dropoff_datetime|passenger_count|trip_distance|RatecodeID|store_and_fwd_flag|PULocationID|DOLocationID|payment_type|fare_amount|extra|mta_tax|tip_amount|tolls_amount|improvement_surcharge|total_amount|congestion_surcharge|airport_fee|\n",
            "+--------+--------------------+---------------------+---------------+-------------+----------+------------------+------------+------------+------------+-----------+-----+-------+----------+------------+---------------------+------------+--------------------+-----------+\n",
            "|       1| 2021-01-01 00:30:10|  2021-01-01 00:36:12|            1.0|          2.1|       1.0|                 N|         142|          43|           2|        8.0|  3.0|    0.5|       0.0|         0.0|                  0.3|        11.8|                 2.5|       null|\n",
            "|       1| 2021-01-01 00:51:20|  2021-01-01 00:52:19|            1.0|          0.2|       1.0|                 N|         238|         151|           2|        3.0|  0.5|    0.5|       0.0|         0.0|                  0.3|         4.3|                 0.0|       null|\n",
            "|       1| 2021-01-01 00:43:30|  2021-01-01 01:11:06|            1.0|         14.7|       1.0|                 N|         132|         165|           1|       42.0|  0.5|    0.5|      8.65|         0.0|                  0.3|       51.95|                 0.0|       null|\n",
            "|       1| 2021-01-01 00:15:48|  2021-01-01 00:31:01|            0.0|         10.6|       1.0|                 N|         138|         132|           1|       29.0|  0.5|    0.5|      6.05|         0.0|                  0.3|       36.35|                 0.0|       null|\n",
            "|       2| 2021-01-01 00:31:49|  2021-01-01 00:48:21|            1.0|         4.94|       1.0|                 N|          68|          33|           1|       16.5|  0.5|    0.5|      4.06|         0.0|                  0.3|       24.36|                 2.5|       null|\n",
            "|       1| 2021-01-01 00:16:29|  2021-01-01 00:24:30|            1.0|          1.6|       1.0|                 N|         224|          68|           1|        8.0|  3.0|    0.5|      2.35|         0.0|                  0.3|       14.15|                 2.5|       null|\n",
            "|       1| 2021-01-01 00:00:28|  2021-01-01 00:17:28|            1.0|          4.1|       1.0|                 N|          95|         157|           2|       16.0|  0.5|    0.5|       0.0|         0.0|                  0.3|        17.3|                 0.0|       null|\n",
            "|       1| 2021-01-01 00:12:29|  2021-01-01 00:30:34|            1.0|          5.7|       1.0|                 N|          90|          40|           2|       18.0|  3.0|    0.5|       0.0|         0.0|                  0.3|        21.8|                 2.5|       null|\n",
            "|       1| 2021-01-01 00:39:16|  2021-01-01 01:00:13|            1.0|          9.1|       1.0|                 N|          97|         129|           4|       27.5|  0.5|    0.5|       0.0|         0.0|                  0.3|        28.8|                 0.0|       null|\n",
            "|       1| 2021-01-01 00:26:12|  2021-01-01 00:39:46|            2.0|          2.7|       1.0|                 N|         263|         142|           1|       12.0|  3.0|    0.5|      3.15|         0.0|                  0.3|       18.95|                 2.5|       null|\n",
            "|       2| 2021-01-01 00:15:52|  2021-01-01 00:38:07|            3.0|         6.11|       1.0|                 N|         164|         255|           1|       20.5|  0.5|    0.5|       0.0|         0.0|                  0.3|        24.3|                 2.5|       null|\n",
            "|       2| 2021-01-01 00:46:36|  2021-01-01 00:53:45|            2.0|         1.21|       1.0|                 N|         255|          80|           1|        7.0|  0.5|    0.5|      2.49|         0.0|                  0.3|       10.79|                 0.0|       null|\n",
            "|       1| 2021-01-01 00:10:46|  2021-01-01 00:32:58|            2.0|          7.4|       1.0|                 N|         138|         166|           2|       24.5|  2.5|    0.5|       0.0|        6.12|                  0.3|       33.92|                 0.0|       null|\n",
            "|       2| 2021-01-01 00:31:06|  2021-01-01 00:38:52|            5.0|          1.7|       1.0|                 N|         142|          50|           1|        8.0|  0.5|    0.5|      2.36|         0.0|                  0.3|       14.16|                 2.5|       null|\n",
            "|       2| 2021-01-01 00:42:11|  2021-01-01 00:44:24|            5.0|         0.81|       1.0|                 N|          50|         142|           2|        4.5|  0.5|    0.5|       0.0|         0.0|                  0.3|         8.3|                 2.5|       null|\n",
            "|       2| 2021-01-01 00:17:48|  2021-01-01 00:21:55|            1.0|         1.01|       1.0|                 N|         236|         237|           1|        5.5|  0.5|    0.5|       1.0|         0.0|                  0.3|        10.3|                 2.5|       null|\n",
            "|       2| 2021-01-01 00:33:38|  2021-01-01 00:38:37|            1.0|         0.73|       1.0|                 N|         142|         239|           1|        5.5|  0.5|    0.5|      2.79|         0.0|                  0.3|       12.09|                 2.5|       null|\n",
            "|       2| 2021-01-01 00:47:56|  2021-01-01 00:52:53|            1.0|         1.17|       1.0|                 N|         238|         166|           1|        6.5|  0.5|    0.5|      2.06|         0.0|                  0.3|       12.36|                 2.5|       null|\n",
            "|       2| 2021-01-01 00:04:21|  2021-01-01 00:07:58|            1.0|         0.78|       1.0|                 N|         239|         238|           1|        4.5|  0.5|    0.5|      1.66|         0.0|                  0.3|        9.96|                 2.5|       null|\n",
            "|       2| 2021-01-01 00:18:36|  2021-01-01 00:27:10|            2.0|         1.66|       1.0|                 N|         151|         142|           2|        8.5|  0.5|    0.5|       0.0|         0.0|                  0.3|        12.3|                 2.5|       null|\n",
            "+--------+--------------------+---------------------+---------------+-------------+----------+------------------+------------+------------+------------+-----------+-----+-------+----------+------------+---------------------+------------+--------------------+-----------+\n",
            "only showing top 20 rows\n",
            "\n"
          ]
        }
      ]
    },
    {
      "cell_type": "code",
      "source": [
        "dfs.printSchema()"
      ],
      "metadata": {
        "colab": {
          "base_uri": "https://localhost:8080/"
        },
        "id": "fMpaumVPL_R6",
        "outputId": "ebcf5e2e-c6a9-41b0-dfdc-6bc424f31dca"
      },
      "execution_count": 7,
      "outputs": [
        {
          "output_type": "stream",
          "name": "stdout",
          "text": [
            "root\n",
            " |-- VendorID: long (nullable = true)\n",
            " |-- tpep_pickup_datetime: timestamp (nullable = true)\n",
            " |-- tpep_dropoff_datetime: timestamp (nullable = true)\n",
            " |-- passenger_count: double (nullable = true)\n",
            " |-- trip_distance: double (nullable = true)\n",
            " |-- RatecodeID: double (nullable = true)\n",
            " |-- store_and_fwd_flag: string (nullable = true)\n",
            " |-- PULocationID: long (nullable = true)\n",
            " |-- DOLocationID: long (nullable = true)\n",
            " |-- payment_type: long (nullable = true)\n",
            " |-- fare_amount: double (nullable = true)\n",
            " |-- extra: double (nullable = true)\n",
            " |-- mta_tax: double (nullable = true)\n",
            " |-- tip_amount: double (nullable = true)\n",
            " |-- tolls_amount: double (nullable = true)\n",
            " |-- improvement_surcharge: double (nullable = true)\n",
            " |-- total_amount: double (nullable = true)\n",
            " |-- congestion_surcharge: double (nullable = true)\n",
            " |-- airport_fee: double (nullable = true)\n",
            "\n"
          ]
        }
      ]
    },
    {
      "cell_type": "markdown",
      "source": [
        "### ---> Vista temporal para consultas SQL"
      ],
      "metadata": {
        "id": "Fko5kLUGpje9"
      }
    },
    {
      "cell_type": "code",
      "source": [
        "dfs.createOrReplaceTempView('dfs_temp_view')"
      ],
      "metadata": {
        "id": "E_KKz_9gdWZ5"
      },
      "execution_count": 12,
      "outputs": []
    },
    {
      "cell_type": "code",
      "source": [
        "query = \"\"\"\n",
        "SELECT \n",
        "    *\n",
        "FROM \n",
        "    dfs_temp_view\n",
        "\"\"\""
      ],
      "metadata": {
        "id": "IsLll0-Qpz2M"
      },
      "execution_count": 30,
      "outputs": []
    },
    {
      "cell_type": "code",
      "source": [
        "spark.sql(query).show()"
      ],
      "metadata": {
        "id": "bY0euh7Fpzgu",
        "outputId": "2d24c7a2-3440-4491-9960-cb02a16c3197",
        "colab": {
          "base_uri": "https://localhost:8080/"
        }
      },
      "execution_count": 31,
      "outputs": [
        {
          "output_type": "stream",
          "name": "stdout",
          "text": [
            "+--------+--------------------+---------------------+---------------+-------------+----------+------------------+------------+------------+------------+-----------+-----+-------+----------+------------+---------------------+------------+--------------------+-----------+\n",
            "|VendorID|tpep_pickup_datetime|tpep_dropoff_datetime|passenger_count|trip_distance|RatecodeID|store_and_fwd_flag|PULocationID|DOLocationID|payment_type|fare_amount|extra|mta_tax|tip_amount|tolls_amount|improvement_surcharge|total_amount|congestion_surcharge|airport_fee|\n",
            "+--------+--------------------+---------------------+---------------+-------------+----------+------------------+------------+------------+------------+-----------+-----+-------+----------+------------+---------------------+------------+--------------------+-----------+\n",
            "|       1| 2021-01-01 00:30:10|  2021-01-01 00:36:12|            1.0|          2.1|       1.0|                 N|         142|          43|           2|        8.0|  3.0|    0.5|       0.0|         0.0|                  0.3|        11.8|                 2.5|       null|\n",
            "|       1| 2021-01-01 00:51:20|  2021-01-01 00:52:19|            1.0|          0.2|       1.0|                 N|         238|         151|           2|        3.0|  0.5|    0.5|       0.0|         0.0|                  0.3|         4.3|                 0.0|       null|\n",
            "|       1| 2021-01-01 00:43:30|  2021-01-01 01:11:06|            1.0|         14.7|       1.0|                 N|         132|         165|           1|       42.0|  0.5|    0.5|      8.65|         0.0|                  0.3|       51.95|                 0.0|       null|\n",
            "|       1| 2021-01-01 00:15:48|  2021-01-01 00:31:01|            0.0|         10.6|       1.0|                 N|         138|         132|           1|       29.0|  0.5|    0.5|      6.05|         0.0|                  0.3|       36.35|                 0.0|       null|\n",
            "|       2| 2021-01-01 00:31:49|  2021-01-01 00:48:21|            1.0|         4.94|       1.0|                 N|          68|          33|           1|       16.5|  0.5|    0.5|      4.06|         0.0|                  0.3|       24.36|                 2.5|       null|\n",
            "|       1| 2021-01-01 00:16:29|  2021-01-01 00:24:30|            1.0|          1.6|       1.0|                 N|         224|          68|           1|        8.0|  3.0|    0.5|      2.35|         0.0|                  0.3|       14.15|                 2.5|       null|\n",
            "|       1| 2021-01-01 00:00:28|  2021-01-01 00:17:28|            1.0|          4.1|       1.0|                 N|          95|         157|           2|       16.0|  0.5|    0.5|       0.0|         0.0|                  0.3|        17.3|                 0.0|       null|\n",
            "|       1| 2021-01-01 00:12:29|  2021-01-01 00:30:34|            1.0|          5.7|       1.0|                 N|          90|          40|           2|       18.0|  3.0|    0.5|       0.0|         0.0|                  0.3|        21.8|                 2.5|       null|\n",
            "|       1| 2021-01-01 00:39:16|  2021-01-01 01:00:13|            1.0|          9.1|       1.0|                 N|          97|         129|           4|       27.5|  0.5|    0.5|       0.0|         0.0|                  0.3|        28.8|                 0.0|       null|\n",
            "|       1| 2021-01-01 00:26:12|  2021-01-01 00:39:46|            2.0|          2.7|       1.0|                 N|         263|         142|           1|       12.0|  3.0|    0.5|      3.15|         0.0|                  0.3|       18.95|                 2.5|       null|\n",
            "|       2| 2021-01-01 00:15:52|  2021-01-01 00:38:07|            3.0|         6.11|       1.0|                 N|         164|         255|           1|       20.5|  0.5|    0.5|       0.0|         0.0|                  0.3|        24.3|                 2.5|       null|\n",
            "|       2| 2021-01-01 00:46:36|  2021-01-01 00:53:45|            2.0|         1.21|       1.0|                 N|         255|          80|           1|        7.0|  0.5|    0.5|      2.49|         0.0|                  0.3|       10.79|                 0.0|       null|\n",
            "|       1| 2021-01-01 00:10:46|  2021-01-01 00:32:58|            2.0|          7.4|       1.0|                 N|         138|         166|           2|       24.5|  2.5|    0.5|       0.0|        6.12|                  0.3|       33.92|                 0.0|       null|\n",
            "|       2| 2021-01-01 00:31:06|  2021-01-01 00:38:52|            5.0|          1.7|       1.0|                 N|         142|          50|           1|        8.0|  0.5|    0.5|      2.36|         0.0|                  0.3|       14.16|                 2.5|       null|\n",
            "|       2| 2021-01-01 00:42:11|  2021-01-01 00:44:24|            5.0|         0.81|       1.0|                 N|          50|         142|           2|        4.5|  0.5|    0.5|       0.0|         0.0|                  0.3|         8.3|                 2.5|       null|\n",
            "|       2| 2021-01-01 00:17:48|  2021-01-01 00:21:55|            1.0|         1.01|       1.0|                 N|         236|         237|           1|        5.5|  0.5|    0.5|       1.0|         0.0|                  0.3|        10.3|                 2.5|       null|\n",
            "|       2| 2021-01-01 00:33:38|  2021-01-01 00:38:37|            1.0|         0.73|       1.0|                 N|         142|         239|           1|        5.5|  0.5|    0.5|      2.79|         0.0|                  0.3|       12.09|                 2.5|       null|\n",
            "|       2| 2021-01-01 00:47:56|  2021-01-01 00:52:53|            1.0|         1.17|       1.0|                 N|         238|         166|           1|        6.5|  0.5|    0.5|      2.06|         0.0|                  0.3|       12.36|                 2.5|       null|\n",
            "|       2| 2021-01-01 00:04:21|  2021-01-01 00:07:58|            1.0|         0.78|       1.0|                 N|         239|         238|           1|        4.5|  0.5|    0.5|      1.66|         0.0|                  0.3|        9.96|                 2.5|       null|\n",
            "|       2| 2021-01-01 00:18:36|  2021-01-01 00:27:10|            2.0|         1.66|       1.0|                 N|         151|         142|           2|        8.5|  0.5|    0.5|       0.0|         0.0|                  0.3|        12.3|                 2.5|       null|\n",
            "+--------+--------------------+---------------------+---------------+-------------+----------+------------------+------------+------------+------------+-----------+-----+-------+----------+------------+---------------------+------------+--------------------+-----------+\n",
            "only showing top 20 rows\n",
            "\n"
          ]
        }
      ]
    },
    {
      "cell_type": "markdown",
      "source": [
        "# D. Resolución de las preguntas"
      ],
      "metadata": {
        "id": "-iCfOGfUgA2Q"
      }
    },
    {
      "cell_type": "markdown",
      "source": [
        "## 05. Tabla payments\n",
        "Insertar en la tabla payments (VendorID, tpep_pickup_datetetime, payment_type,\n",
        "total_amount) solamente los pagos con tarjeta de crédito.\n",
        "\n",
        "Sabemos que en `Payment_type` tenemos la equivalencia `1= Credit card`."
      ],
      "metadata": {
        "id": "Ji5nA80pV2-G"
      }
    },
    {
      "cell_type": "markdown",
      "source": [
        "### ---> Pyspark version:"
      ],
      "metadata": {
        "id": "RVF5FpStlqzK"
      }
    },
    {
      "cell_type": "code",
      "source": [
        "dfs.withColumn('tpep_pickup_datetime', to_date('tpep_pickup_datetime', 'yyyy-MM-dd HH:mm:ss')).\\\n",
        "    select('VendorID','tpep_pickup_datetime', 'payment_type', 'total_amount').\\\n",
        "    filter(col('payment_type') == 4).\\\n",
        "    show()"
      ],
      "metadata": {
        "id": "AfMnzNaxlk2W",
        "outputId": "59e1f783-ec9e-47e1-dd54-f28744c2f97c",
        "colab": {
          "base_uri": "https://localhost:8080/"
        }
      },
      "execution_count": 17,
      "outputs": [
        {
          "output_type": "stream",
          "name": "stdout",
          "text": [
            "+--------+--------------------+------------+------------+\n",
            "|VendorID|tpep_pickup_datetime|payment_type|total_amount|\n",
            "+--------+--------------------+------------+------------+\n",
            "|       1|          2021-01-01|           4|        28.8|\n",
            "|       1|          2021-01-01|           4|        37.8|\n",
            "|       1|          2021-01-01|           4|        16.3|\n",
            "|       1|          2021-01-01|           4|         8.3|\n",
            "|       1|          2021-01-01|           4|        10.8|\n",
            "|       2|          2021-01-01|           4|       -45.3|\n",
            "|       2|          2021-01-01|           4|        -8.8|\n",
            "|       2|          2021-01-01|           4|       -15.8|\n",
            "|       2|          2021-01-01|           4|       -25.8|\n",
            "|       2|          2021-01-01|           4|       -15.8|\n",
            "|       1|          2021-01-01|           4|        18.8|\n",
            "|       2|          2021-01-01|           4|       -19.3|\n",
            "|       1|          2021-01-01|           4|         6.3|\n",
            "|       2|          2021-01-01|           4|       -21.8|\n",
            "|       2|          2021-01-01|           4|       -18.3|\n",
            "|       2|          2021-01-01|           4|        -7.8|\n",
            "|       2|          2021-01-01|           4|       -19.8|\n",
            "|       2|          2021-01-01|           4|       -19.3|\n",
            "|       1|          2021-01-01|           4|         7.3|\n",
            "|       2|          2021-01-01|           4|        -6.3|\n",
            "+--------+--------------------+------------+------------+\n",
            "only showing top 20 rows\n",
            "\n"
          ]
        }
      ]
    },
    {
      "cell_type": "markdown",
      "source": [
        "### ---> SQL version:"
      ],
      "metadata": {
        "id": "umlQkQNJl6cb"
      }
    },
    {
      "cell_type": "code",
      "source": [
        "query_05 = \"\"\"\n",
        "SELECT \n",
        "    VendorID, \n",
        "    DATE_FORMAT(tpep_pickup_datetime, 'yyyy-MM-dd') as tpep_pickup_datetime, \n",
        "    payment_type, \n",
        "    total_amount\n",
        "FROM \n",
        "    dfs_temp_view\n",
        "WHERE \n",
        "    payment_type = 4\n",
        "\"\"\""
      ],
      "metadata": {
        "id": "QdM_hhlsmo8f"
      },
      "execution_count": 22,
      "outputs": []
    },
    {
      "cell_type": "code",
      "source": [
        "spark.sql(query_05).show()"
      ],
      "metadata": {
        "id": "pYIF31tVcra9",
        "outputId": "ae38068d-0987-408a-af91-95dc10b4f132",
        "colab": {
          "base_uri": "https://localhost:8080/"
        }
      },
      "execution_count": 23,
      "outputs": [
        {
          "output_type": "stream",
          "name": "stdout",
          "text": [
            "+--------+--------------------+------------+------------+\n",
            "|VendorID|tpep_pickup_datetime|payment_type|total_amount|\n",
            "+--------+--------------------+------------+------------+\n",
            "|       1|          2021-01-01|           4|        28.8|\n",
            "|       1|          2021-01-01|           4|        37.8|\n",
            "|       1|          2021-01-01|           4|        16.3|\n",
            "|       1|          2021-01-01|           4|         8.3|\n",
            "|       1|          2021-01-01|           4|        10.8|\n",
            "|       2|          2021-01-01|           4|       -45.3|\n",
            "|       2|          2021-01-01|           4|        -8.8|\n",
            "|       2|          2021-01-01|           4|       -15.8|\n",
            "|       2|          2021-01-01|           4|       -25.8|\n",
            "|       2|          2021-01-01|           4|       -15.8|\n",
            "|       1|          2021-01-01|           4|        18.8|\n",
            "|       2|          2021-01-01|           4|       -19.3|\n",
            "|       1|          2021-01-01|           4|         6.3|\n",
            "|       2|          2021-01-01|           4|       -21.8|\n",
            "|       2|          2021-01-01|           4|       -18.3|\n",
            "|       2|          2021-01-01|           4|        -7.8|\n",
            "|       2|          2021-01-01|           4|       -19.8|\n",
            "|       2|          2021-01-01|           4|       -19.3|\n",
            "|       1|          2021-01-01|           4|         7.3|\n",
            "|       2|          2021-01-01|           4|        -6.3|\n",
            "+--------+--------------------+------------+------------+\n",
            "only showing top 20 rows\n",
            "\n"
          ]
        }
      ]
    },
    {
      "cell_type": "markdown",
      "source": [
        "## 06. Tabla passengers\n",
        "Insertar en la tabla passengers (tpep_pickup_datetetime, passenger_count,\n",
        "total_amount) los registros cuya cantidad de pasajeros sea mayor a 2 y el total del viaje cueste más de 8 dólares."
      ],
      "metadata": {
        "id": "mwx5ZP5YnfIe"
      }
    },
    {
      "cell_type": "markdown",
      "source": [
        "### ---> Pyspark version:"
      ],
      "metadata": {
        "id": "IKq1Kew0o1jE"
      }
    },
    {
      "cell_type": "code",
      "source": [
        "dfs.withColumn('tpep_pickup_datetime', to_date('tpep_pickup_datetime', 'yyyy-MM-dd HH:mm:ss')).\\\n",
        "    select('tpep_pickup_datetime','passenger_count', 'total_amount').\\\n",
        "    filter((col('passenger_count') > 2) & (col('total_amount') > 8)).\\\n",
        "    show()"
      ],
      "metadata": {
        "colab": {
          "base_uri": "https://localhost:8080/"
        },
        "id": "pYFoS7mQnXa2",
        "outputId": "a1cfc352-f3d0-404d-d8fc-7e1a016f53d6"
      },
      "execution_count": 25,
      "outputs": [
        {
          "output_type": "stream",
          "name": "stdout",
          "text": [
            "+--------------------+---------------+------------+\n",
            "|tpep_pickup_datetime|passenger_count|total_amount|\n",
            "+--------------------+---------------+------------+\n",
            "|          2021-01-01|            3.0|        24.3|\n",
            "|          2021-01-01|            5.0|       14.16|\n",
            "|          2021-01-01|            5.0|         8.3|\n",
            "|          2021-01-01|            3.0|         9.3|\n",
            "|          2021-01-01|            4.0|        18.3|\n",
            "|          2021-01-01|            4.0|        13.3|\n",
            "|          2021-01-01|            3.0|        40.3|\n",
            "|          2021-01-01|            5.0|        14.8|\n",
            "|          2021-01-01|            3.0|       18.59|\n",
            "|          2021-01-01|            3.0|       13.56|\n",
            "|          2021-01-01|            3.0|        9.96|\n",
            "|          2021-01-01|            3.0|       66.36|\n",
            "|          2021-01-01|            3.0|       15.95|\n",
            "|          2021-01-01|            3.0|        15.8|\n",
            "|          2021-01-01|            3.0|        13.3|\n",
            "|          2021-01-01|            3.0|       11.76|\n",
            "|          2021-01-01|            3.0|        31.8|\n",
            "|          2021-01-01|            3.0|       12.95|\n",
            "|          2021-01-01|            3.0|        10.8|\n",
            "|          2021-01-01|            4.0|        22.8|\n",
            "+--------------------+---------------+------------+\n",
            "only showing top 20 rows\n",
            "\n"
          ]
        }
      ]
    },
    {
      "cell_type": "markdown",
      "source": [
        "### ---> SQL version:"
      ],
      "metadata": {
        "id": "yIuQXGvfo6Ad"
      }
    },
    {
      "cell_type": "code",
      "source": [
        "query_06 = \"\"\"\n",
        "SELECT \n",
        "    DATE_FORMAT(tpep_pickup_datetime, 'yyyy-MM-dd') as tpep_pickup_datetime, \n",
        "    passenger_count, \n",
        "    total_amount\n",
        "FROM \n",
        "    dfs_temp_view\n",
        "WHERE \n",
        "    passenger_count > 2 \n",
        "    AND total_amount > 8\n",
        "\"\"\""
      ],
      "metadata": {
        "id": "5dAUBYccnXVZ"
      },
      "execution_count": 28,
      "outputs": []
    },
    {
      "cell_type": "code",
      "source": [
        "spark.sql(query_06).show()"
      ],
      "metadata": {
        "colab": {
          "base_uri": "https://localhost:8080/"
        },
        "id": "RD8EyPaSnXTW",
        "outputId": "6f0171c9-971e-4aea-af75-f89c10b5af0d"
      },
      "execution_count": 29,
      "outputs": [
        {
          "output_type": "stream",
          "name": "stdout",
          "text": [
            "+--------------------+---------------+------------+\n",
            "|tpep_pickup_datetime|passenger_count|total_amount|\n",
            "+--------------------+---------------+------------+\n",
            "|          2021-01-01|            3.0|        24.3|\n",
            "|          2021-01-01|            5.0|       14.16|\n",
            "|          2021-01-01|            5.0|         8.3|\n",
            "|          2021-01-01|            3.0|         9.3|\n",
            "|          2021-01-01|            4.0|        18.3|\n",
            "|          2021-01-01|            4.0|        13.3|\n",
            "|          2021-01-01|            3.0|        40.3|\n",
            "|          2021-01-01|            5.0|        14.8|\n",
            "|          2021-01-01|            3.0|       18.59|\n",
            "|          2021-01-01|            3.0|       13.56|\n",
            "|          2021-01-01|            3.0|        9.96|\n",
            "|          2021-01-01|            3.0|       66.36|\n",
            "|          2021-01-01|            3.0|       15.95|\n",
            "|          2021-01-01|            3.0|        15.8|\n",
            "|          2021-01-01|            3.0|        13.3|\n",
            "|          2021-01-01|            3.0|       11.76|\n",
            "|          2021-01-01|            3.0|        31.8|\n",
            "|          2021-01-01|            3.0|       12.95|\n",
            "|          2021-01-01|            3.0|        10.8|\n",
            "|          2021-01-01|            4.0|        22.8|\n",
            "+--------------------+---------------+------------+\n",
            "only showing top 20 rows\n",
            "\n"
          ]
        }
      ]
    },
    {
      "cell_type": "markdown",
      "source": [
        "## 07. Tabla tolls\n",
        "Insertar en la tabla tolls (tpep_pickup_datetetime, passenger_count, tolls_amount, total_amount) los registros que tengan pago de peajes mayores a 0.1 y cantidad de pasajeros mayores a 1."
      ],
      "metadata": {
        "id": "ZUioK-10qKnq"
      }
    },
    {
      "cell_type": "markdown",
      "source": [
        "### ---> Pyspark version:"
      ],
      "metadata": {
        "id": "b2uNgbWhqo19"
      }
    },
    {
      "cell_type": "code",
      "source": [
        "dfs.withColumn('tpep_pickup_datetime', to_date('tpep_pickup_datetime', 'yyyy-MM-dd HH:mm:ss')).\\\n",
        "    select('tpep_pickup_datetime','passenger_count', 'tolls_amount', 'total_amount').\\\n",
        "    filter((col('tolls_amount') > 0.1) & (col('passenger_count') > 1)).\\\n",
        "    show()"
      ],
      "metadata": {
        "colab": {
          "base_uri": "https://localhost:8080/"
        },
        "outputId": "f789efa2-c98e-49fa-f9ea-6f9bbf84c2cf",
        "id": "tXKx98Ctqo2H"
      },
      "execution_count": 33,
      "outputs": [
        {
          "output_type": "stream",
          "name": "stdout",
          "text": [
            "+--------------------+---------------+------------+------------+\n",
            "|tpep_pickup_datetime|passenger_count|tolls_amount|total_amount|\n",
            "+--------------------+---------------+------------+------------+\n",
            "|          2021-01-01|            2.0|        6.12|       33.92|\n",
            "|          2021-01-01|            2.0|        6.12|       59.42|\n",
            "|          2021-01-01|            2.0|        6.12|       35.92|\n",
            "|          2021-01-01|            6.0|        6.12|        40.1|\n",
            "|          2021-01-01|            3.0|        6.12|        54.0|\n",
            "|          2021-01-01|            2.0|         2.8|        34.1|\n",
            "|          2021-01-01|            4.0|        6.12|       61.42|\n",
            "|          2021-01-01|            4.0|        6.12|       51.42|\n",
            "|          2021-01-01|            2.0|       11.75|       12.05|\n",
            "|          2021-01-01|            6.0|        6.12|       71.42|\n",
            "|          2021-01-01|            2.0|        6.12|       26.94|\n",
            "|          2021-01-01|            3.0|        6.12|       27.42|\n",
            "|          2021-01-01|            3.0|        6.12|        43.7|\n",
            "|          2021-01-01|            2.0|        6.12|       69.17|\n",
            "|          2021-01-01|            3.0|       11.75|       73.55|\n",
            "|          2021-01-01|            2.0|        6.12|       67.67|\n",
            "|          2021-01-01|            2.0|        6.12|       24.42|\n",
            "|          2021-01-01|            2.0|        6.12|       42.42|\n",
            "|          2021-01-01|            2.0|        6.12|       31.92|\n",
            "|          2021-01-01|            2.0|        6.12|       33.42|\n",
            "+--------------------+---------------+------------+------------+\n",
            "only showing top 20 rows\n",
            "\n"
          ]
        }
      ]
    },
    {
      "cell_type": "markdown",
      "source": [
        "### ---> SQL version:"
      ],
      "metadata": {
        "id": "rbl7zebnqo2I"
      }
    },
    {
      "cell_type": "code",
      "source": [
        "query_07 = \"\"\"\n",
        "SELECT \n",
        "    DATE_FORMAT(tpep_pickup_datetime, 'yyyy-MM-dd') as tpep_pickup_datetime, \n",
        "    passenger_count, \n",
        "    tolls_amount, \n",
        "    total_amount\n",
        "FROM \n",
        "    dfs_temp_view\n",
        "WHERE \n",
        "    tolls_amount > 0.1\n",
        "    AND passenger_count > 1\n",
        "\"\"\""
      ],
      "metadata": {
        "id": "ap1ooZmhqo2I"
      },
      "execution_count": 34,
      "outputs": []
    },
    {
      "cell_type": "code",
      "source": [
        "spark.sql(query_07).show()"
      ],
      "metadata": {
        "outputId": "abe3f551-f4f0-4cd3-b25b-388bbfb7f130",
        "colab": {
          "base_uri": "https://localhost:8080/"
        },
        "id": "8MwPQCzOqo2I"
      },
      "execution_count": 35,
      "outputs": [
        {
          "output_type": "stream",
          "name": "stdout",
          "text": [
            "+--------------------+---------------+------------+------------+\n",
            "|tpep_pickup_datetime|passenger_count|tolls_amount|total_amount|\n",
            "+--------------------+---------------+------------+------------+\n",
            "|          2021-01-01|            2.0|        6.12|       33.92|\n",
            "|          2021-01-01|            2.0|        6.12|       59.42|\n",
            "|          2021-01-01|            2.0|        6.12|       35.92|\n",
            "|          2021-01-01|            6.0|        6.12|        40.1|\n",
            "|          2021-01-01|            3.0|        6.12|        54.0|\n",
            "|          2021-01-01|            2.0|         2.8|        34.1|\n",
            "|          2021-01-01|            4.0|        6.12|       61.42|\n",
            "|          2021-01-01|            4.0|        6.12|       51.42|\n",
            "|          2021-01-01|            2.0|       11.75|       12.05|\n",
            "|          2021-01-01|            6.0|        6.12|       71.42|\n",
            "|          2021-01-01|            2.0|        6.12|       26.94|\n",
            "|          2021-01-01|            3.0|        6.12|       27.42|\n",
            "|          2021-01-01|            3.0|        6.12|        43.7|\n",
            "|          2021-01-01|            2.0|        6.12|       69.17|\n",
            "|          2021-01-01|            3.0|       11.75|       73.55|\n",
            "|          2021-01-01|            2.0|        6.12|       67.67|\n",
            "|          2021-01-01|            2.0|        6.12|       24.42|\n",
            "|          2021-01-01|            2.0|        6.12|       42.42|\n",
            "|          2021-01-01|            2.0|        6.12|       31.92|\n",
            "|          2021-01-01|            2.0|        6.12|       33.42|\n",
            "+--------------------+---------------+------------+------------+\n",
            "only showing top 20 rows\n",
            "\n"
          ]
        }
      ]
    },
    {
      "cell_type": "markdown",
      "source": [
        "## 08. Tabla congestion\n",
        "Insertar en la tabla congestion (tpep_pickup_datetetime, passenger_count,\n",
        "congestion_surcharge, total_amount) los registros que hayan tenido congestión en los viajes en la fecha 2021-01-18."
      ],
      "metadata": {
        "id": "EUndnrfNrW6S"
      }
    },
    {
      "cell_type": "markdown",
      "source": [
        "### ---> Pyspark version:"
      ],
      "metadata": {
        "id": "4zksfOCJrW6b"
      }
    },
    {
      "cell_type": "code",
      "source": [
        "dfs.withColumn('tpep_pickup_datetime', to_date('tpep_pickup_datetime', 'yyyy-MM-dd HH:mm:ss')).\\\n",
        "    select('tpep_pickup_datetime','passenger_count', 'congestion_surcharge', 'total_amount').\\\n",
        "    filter((col('tpep_pickup_datetime') == lit('2021-01-18')) & (col('congestion_surcharge') > 0)).\\\n",
        "    show()"
      ],
      "metadata": {
        "colab": {
          "base_uri": "https://localhost:8080/"
        },
        "outputId": "0b9f7462-860b-46e1-fd9d-cea6de9deba0",
        "id": "3dSVmyA-rW6b"
      },
      "execution_count": 37,
      "outputs": [
        {
          "output_type": "stream",
          "name": "stdout",
          "text": [
            "+--------------------+---------------+--------------------+------------+\n",
            "|tpep_pickup_datetime|passenger_count|congestion_surcharge|total_amount|\n",
            "+--------------------+---------------+--------------------+------------+\n",
            "|          2021-01-18|            1.0|                 2.5|        10.8|\n",
            "|          2021-01-18|            1.0|                 2.5|       16.56|\n",
            "|          2021-01-18|            1.0|                 2.5|       11.16|\n",
            "|          2021-01-18|            1.0|                 2.5|        11.3|\n",
            "|          2021-01-18|            1.0|                 2.5|       21.23|\n",
            "|          2021-01-18|            1.0|                 2.5|       12.96|\n",
            "|          2021-01-18|            1.0|                 2.5|       13.87|\n",
            "|          2021-01-18|            1.0|                 2.5|        14.8|\n",
            "|          2021-01-18|            1.0|                 2.5|       14.14|\n",
            "|          2021-01-18|            1.0|                 2.5|        20.8|\n",
            "|          2021-01-18|            1.0|                 2.5|       25.87|\n",
            "|          2021-01-18|            1.0|                 2.5|       11.76|\n",
            "|          2021-01-18|            1.0|                 2.5|        11.8|\n",
            "|          2021-01-18|            1.0|                 2.5|       17.94|\n",
            "|          2021-01-18|            1.0|                 2.5|       19.56|\n",
            "|          2021-01-18|            1.0|                 2.5|        14.3|\n",
            "|          2021-01-18|            1.0|                 2.5|       24.36|\n",
            "|          2021-01-18|            1.0|                 2.5|         7.3|\n",
            "|          2021-01-18|            1.0|                 2.5|       10.38|\n",
            "|          2021-01-18|            1.0|                 2.5|        69.9|\n",
            "+--------------------+---------------+--------------------+------------+\n",
            "only showing top 20 rows\n",
            "\n"
          ]
        }
      ]
    },
    {
      "cell_type": "markdown",
      "source": [
        "### ---> SQL version:"
      ],
      "metadata": {
        "id": "sBvuyQYUrW6b"
      }
    },
    {
      "cell_type": "code",
      "source": [
        "query_08 = \"\"\"\n",
        "SELECT \n",
        "  to_date(tpep_pickup_datetime, 'yyyy-MM-dd HH:mm:ss') AS tpep_pickup_datetime, \n",
        "  passenger_count, \n",
        "  congestion_surcharge, \n",
        "  total_amount\n",
        "FROM \n",
        "  dfs_temp_view\n",
        "WHERE \n",
        "  to_date(tpep_pickup_datetime, 'yyyy-MM-dd HH:mm:ss') = '2021-01-18'\n",
        "  AND congestion_surcharge > 0\n",
        "\"\"\""
      ],
      "metadata": {
        "id": "AD_E29XUrW6b"
      },
      "execution_count": 40,
      "outputs": []
    },
    {
      "cell_type": "code",
      "source": [
        "spark.sql(query_08).show()"
      ],
      "metadata": {
        "outputId": "042d9894-e234-4f6b-f1fa-5c6bc030fcf2",
        "colab": {
          "base_uri": "https://localhost:8080/"
        },
        "id": "PYsRiC9CrW6b"
      },
      "execution_count": 41,
      "outputs": [
        {
          "output_type": "stream",
          "name": "stdout",
          "text": [
            "+--------------------+---------------+--------------------+------------+\n",
            "|tpep_pickup_datetime|passenger_count|congestion_surcharge|total_amount|\n",
            "+--------------------+---------------+--------------------+------------+\n",
            "|          2021-01-18|            1.0|                 2.5|        10.8|\n",
            "|          2021-01-18|            1.0|                 2.5|       16.56|\n",
            "|          2021-01-18|            1.0|                 2.5|       11.16|\n",
            "|          2021-01-18|            1.0|                 2.5|        11.3|\n",
            "|          2021-01-18|            1.0|                 2.5|       21.23|\n",
            "|          2021-01-18|            1.0|                 2.5|       12.96|\n",
            "|          2021-01-18|            1.0|                 2.5|       13.87|\n",
            "|          2021-01-18|            1.0|                 2.5|        14.8|\n",
            "|          2021-01-18|            1.0|                 2.5|       14.14|\n",
            "|          2021-01-18|            1.0|                 2.5|        20.8|\n",
            "|          2021-01-18|            1.0|                 2.5|       25.87|\n",
            "|          2021-01-18|            1.0|                 2.5|       11.76|\n",
            "|          2021-01-18|            1.0|                 2.5|        11.8|\n",
            "|          2021-01-18|            1.0|                 2.5|       17.94|\n",
            "|          2021-01-18|            1.0|                 2.5|       19.56|\n",
            "|          2021-01-18|            1.0|                 2.5|        14.3|\n",
            "|          2021-01-18|            1.0|                 2.5|       24.36|\n",
            "|          2021-01-18|            1.0|                 2.5|         7.3|\n",
            "|          2021-01-18|            1.0|                 2.5|       10.38|\n",
            "|          2021-01-18|            1.0|                 2.5|        69.9|\n",
            "+--------------------+---------------+--------------------+------------+\n",
            "only showing top 20 rows\n",
            "\n"
          ]
        }
      ]
    },
    {
      "cell_type": "code",
      "source": [],
      "metadata": {
        "id": "GvbmLFTgnXMl"
      },
      "execution_count": null,
      "outputs": []
    },
    {
      "cell_type": "markdown",
      "source": [
        "## 09. Tabla distance\n",
        "Insertar en la tabla distance (tpep_pickup_datetetime, passenger_count, trip_distance, total_amount) los registros de la fecha 2020-12-31 que hayan tenido solamente un pasajero (passenger_count = 1) y hayan recorrido más de 15 millas (trip_distance)."
      ],
      "metadata": {
        "id": "DmCjst8OtPw2"
      }
    },
    {
      "cell_type": "markdown",
      "source": [
        "### ---> Pyspark version:"
      ],
      "metadata": {
        "id": "C7Sh3xzZtPxA"
      }
    },
    {
      "cell_type": "code",
      "source": [
        "dfs.withColumn('tpep_pickup_datetime', to_date('tpep_pickup_datetime', 'yyyy-MM-dd HH:mm:ss')).\\\n",
        "    select('tpep_pickup_datetime','passenger_count', 'trip_distance', 'total_amount').\\\n",
        "    filter((col('tpep_pickup_datetime') == lit('2020-12-31')) & \n",
        "           (col('passenger_count') == 1) & \n",
        "           (col('trip_distance') >15)).\\\n",
        "    show()"
      ],
      "metadata": {
        "colab": {
          "base_uri": "https://localhost:8080/"
        },
        "outputId": "be62920c-02db-4f42-a03a-e035e571a79a",
        "id": "Lw46u-A2tPxA"
      },
      "execution_count": 45,
      "outputs": [
        {
          "output_type": "stream",
          "name": "stdout",
          "text": [
            "+--------------------+---------------+-------------+------------+\n",
            "|tpep_pickup_datetime|passenger_count|trip_distance|total_amount|\n",
            "+--------------------+---------------+-------------+------------+\n",
            "|          2020-12-31|            1.0|        17.96|        53.3|\n",
            "+--------------------+---------------+-------------+------------+\n",
            "\n"
          ]
        }
      ]
    },
    {
      "cell_type": "markdown",
      "source": [
        "### ---> SQL version:"
      ],
      "metadata": {
        "id": "yiduMyJ5tPxA"
      }
    },
    {
      "cell_type": "code",
      "source": [
        "query_09 = \"\"\"\n",
        "SELECT \n",
        "  to_date(tpep_pickup_datetime, 'yyyy-MM-dd HH:mm:ss') AS tpep_pickup_datetime, \n",
        "  passenger_count, \n",
        "  trip_distance, \n",
        "  total_amount\n",
        "FROM \n",
        "  dfs_temp_view\n",
        "WHERE \n",
        "  to_date(tpep_pickup_datetime, 'yyyy-MM-dd HH:mm:ss') = '2020-12-31'\n",
        "  AND passenger_count = 1\n",
        "  AND trip_distance > 15\n",
        "\"\"\""
      ],
      "metadata": {
        "id": "0uCGmYdKtPxA"
      },
      "execution_count": 48,
      "outputs": []
    },
    {
      "cell_type": "code",
      "source": [
        "spark.sql(query_09).show()"
      ],
      "metadata": {
        "outputId": "f0f06fcc-cf30-4db0-b103-c367f136ba64",
        "colab": {
          "base_uri": "https://localhost:8080/"
        },
        "id": "BESOui8DtPxB"
      },
      "execution_count": 49,
      "outputs": [
        {
          "output_type": "stream",
          "name": "stdout",
          "text": [
            "+--------------------+---------------+-------------+------------+\n",
            "|tpep_pickup_datetime|passenger_count|trip_distance|total_amount|\n",
            "+--------------------+---------------+-------------+------------+\n",
            "|          2020-12-31|            1.0|        17.96|        53.3|\n",
            "+--------------------+---------------+-------------+------------+\n",
            "\n"
          ]
        }
      ]
    }
  ]
}